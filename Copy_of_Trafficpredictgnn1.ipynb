{
  "nbformat": 4,
  "nbformat_minor": 0,
  "metadata": {
    "colab": {
      "provenance": [],
      "authorship_tag": "ABX9TyNqDcAcFXS2idkuj1sA9tVm",
      "include_colab_link": true
    },
    "kernelspec": {
      "name": "python3",
      "display_name": "Python 3"
    },
    "language_info": {
      "name": "python"
    }
  },
  "cells": [
    {
      "cell_type": "markdown",
      "metadata": {
        "id": "view-in-github",
        "colab_type": "text"
      },
      "source": [
        "<a href=\"https://colab.research.google.com/github/SreejaJalakam/Assignment1/blob/main/Copy_of_Trafficpredictgnn1.ipynb\" target=\"_parent\"><img src=\"https://colab.research.google.com/assets/colab-badge.svg\" alt=\"Open In Colab\"/></a>"
      ]
    },
    {
      "cell_type": "markdown",
      "source": [
        "#TRAFFIC FORECAST MODEL USING GRAPH NEURAL NETWORKS"
      ],
      "metadata": {
        "id": "V6UUKFTxnDrr"
      }
    },
    {
      "cell_type": "markdown",
      "source": [
        "##Step-1 : Load Dataset"
      ],
      "metadata": {
        "id": "u9D1L0f7nL8_"
      }
    },
    {
      "cell_type": "code",
      "execution_count": null,
      "metadata": {
        "colab": {
          "base_uri": "https://localhost:8080/"
        },
        "id": "x0El25T6q__g",
        "outputId": "876b2fef-e88f-4322-dbfa-1c430926a8ca"
      },
      "outputs": [
        {
          "output_type": "stream",
          "name": "stdout",
          "text": [
            "              DateTime  Junction  Vehicles           ID\n",
            "0  2015-11-01 00:00:00         1        15  20151101001\n",
            "1  2015-11-01 01:00:00         1        13  20151101011\n",
            "2  2015-11-01 02:00:00         1        10  20151101021\n",
            "3  2015-11-01 03:00:00         1         7  20151101031\n",
            "4  2015-11-01 04:00:00         1         9  20151101041\n"
          ]
        }
      ],
      "source": [
        "import pandas as pd\n",
        "\n",
        "# Load dataset\n",
        "data = pd.read_csv('/content/traffic.csv')\n",
        "print(data.head())\n"
      ]
    },
    {
      "cell_type": "markdown",
      "source": [
        "#### Import necessary libraries"
      ],
      "metadata": {
        "id": "xuuNHR5VnRPK"
      }
    },
    {
      "cell_type": "code",
      "source": [
        "import pandas as pd\n",
        "import datetime\n",
        "from sklearn.model_selection import train_test_split\n",
        "from sklearn.preprocessing import StandardScaler\n",
        "from sklearn.metrics import mean_squared_error, r2_score, accuracy_score, precision_score, recall_score\n"
      ],
      "metadata": {
        "id": "8MTd_ZeHrRHd"
      },
      "execution_count": null,
      "outputs": []
    },
    {
      "cell_type": "code",
      "source": [
        "import torch"
      ],
      "metadata": {
        "id": "8bYJctaXrVxw"
      },
      "execution_count": null,
      "outputs": []
    },
    {
      "cell_type": "code",
      "source": [
        "import torch.nn.functional as F"
      ],
      "metadata": {
        "id": "gA2tOjbTrfz2"
      },
      "execution_count": null,
      "outputs": []
    },
    {
      "cell_type": "code",
      "source": [
        "import torch.optim as optim"
      ],
      "metadata": {
        "id": "_02N4tEErqse"
      },
      "execution_count": null,
      "outputs": []
    },
    {
      "cell_type": "code",
      "source": [
        "from torch_geometric.data import Data"
      ],
      "metadata": {
        "id": "RHfFs41LrwIB"
      },
      "execution_count": null,
      "outputs": []
    },
    {
      "source": [
        "!pip install torch-geometric -q"
      ],
      "cell_type": "code",
      "metadata": {
        "colab": {
          "base_uri": "https://localhost:8080/"
        },
        "id": "94qPaY9jsGpI",
        "outputId": "afb298eb-93c4-4cdf-d59b-e7efcd78cbbf"
      },
      "execution_count": null,
      "outputs": [
        {
          "output_type": "stream",
          "name": "stdout",
          "text": [
            "\u001b[2K     \u001b[90m━━━━━━━━━━━━━━━━━━━━━━━━━━━━━━━━━━━━━━━━\u001b[0m \u001b[32m63.1/63.1 kB\u001b[0m \u001b[31m1.7 MB/s\u001b[0m eta \u001b[36m0:00:00\u001b[0m\n",
            "\u001b[2K   \u001b[90m━━━━━━━━━━━━━━━━━━━━━━━━━━━━━━━━━━━━━━━━\u001b[0m \u001b[32m1.1/1.1 MB\u001b[0m \u001b[31m17.7 MB/s\u001b[0m eta \u001b[36m0:00:00\u001b[0m\n",
            "\u001b[?25h"
          ]
        }
      ]
    },
    {
      "cell_type": "code",
      "source": [
        "from torch_geometric.nn import GCNConv"
      ],
      "metadata": {
        "id": "HEI5eBOlsCZE"
      },
      "execution_count": null,
      "outputs": []
    },
    {
      "source": [
        "from torch_geometric.data import Data"
      ],
      "cell_type": "code",
      "metadata": {
        "id": "UqEm4BclsIKD"
      },
      "execution_count": null,
      "outputs": []
    },
    {
      "cell_type": "markdown",
      "source": [
        "### Converting large data set to chunk file"
      ],
      "metadata": {
        "id": "tim3kLw4ndZN"
      }
    },
    {
      "source": [
        "import pandas as pd\n",
        "\n",
        "chunk_size = 10**6  # Adjust chunk size as needed\n",
        "chunks = pd.read_csv('/content/traffic.csv', chunksize=chunk_size)\n",
        "\n",
        "def process_chunk(chunk):\n",
        "  \"\"\"\n",
        "  This function processes a single chunk of data.\n",
        "\n",
        "  Args:\n",
        "    chunk: A pandas DataFrame representing a chunk of data.\n",
        "  \"\"\"\n",
        "  # Perform operations on the chunk here.\n",
        "  # For example, you can print the chunk:\n",
        "  print(chunk)\n",
        "  # Or perform any other desired processing steps.\n",
        "\n",
        "# Process each chunk\n",
        "for chunk in chunks:\n",
        "    # Perform operations on each chunk\n",
        "    process_chunk(chunk)"
      ],
      "cell_type": "code",
      "metadata": {
        "colab": {
          "base_uri": "https://localhost:8080/"
        },
        "id": "GqagjOv_vFyX",
        "outputId": "e351019c-5c96-4701-e762-441ed1bfc80e"
      },
      "execution_count": null,
      "outputs": [
        {
          "output_type": "stream",
          "name": "stdout",
          "text": [
            "                  DateTime  Junction  Vehicles           ID\n",
            "0      2015-11-01 00:00:00         1        15  20151101001\n",
            "1      2015-11-01 01:00:00         1        13  20151101011\n",
            "2      2015-11-01 02:00:00         1        10  20151101021\n",
            "3      2015-11-01 03:00:00         1         7  20151101031\n",
            "4      2015-11-01 04:00:00         1         9  20151101041\n",
            "...                    ...       ...       ...          ...\n",
            "48115  2017-06-30 19:00:00         4        11  20170630194\n",
            "48116  2017-06-30 20:00:00         4        30  20170630204\n",
            "48117  2017-06-30 21:00:00         4        16  20170630214\n",
            "48118  2017-06-30 22:00:00         4        22  20170630224\n",
            "48119  2017-06-30 23:00:00         4        12  20170630234\n",
            "\n",
            "[48120 rows x 4 columns]\n"
          ]
        }
      ]
    },
    {
      "cell_type": "markdown",
      "source": [
        "#### Creating a dataframe"
      ],
      "metadata": {
        "id": "coscIR46nokF"
      }
    },
    {
      "cell_type": "code",
      "source": [
        "columns = ['DateTime', 'Junction', 'Vehicles', 'ID']\n",
        "df = pd.read_csv('/content/traffic.csv', usecols=columns)"
      ],
      "metadata": {
        "id": "U0sBk-mLtdNN"
      },
      "execution_count": null,
      "outputs": []
    },
    {
      "cell_type": "code",
      "source": [
        "df = pd.read_csv('/content/traffic.csv')\n",
        "\n",
        "# Convert DateTime to datetime object\n",
        "df['DateTime'] = pd.to_datetime(df['DateTime'])\n",
        "\n",
        "# Convert categorical columns to 'category' data type\n",
        "df['Junction'] = df['Junction'].astype('category')\n",
        "df['ID'] = df['ID'].astype('category')\n",
        "\n",
        "# Convert integers to more appropriate type if necessary\n",
        "df['Vehicles'] = df['Vehicles'].astype('int16')\n"
      ],
      "metadata": {
        "id": "o433u4O6vkbN"
      },
      "execution_count": null,
      "outputs": []
    },
    {
      "cell_type": "code",
      "source": [
        "df = pd.read_csv('/content/traffic.csv', index_col='ID')"
      ],
      "metadata": {
        "id": "lR5urpHBvoU8"
      },
      "execution_count": null,
      "outputs": []
    },
    {
      "cell_type": "code",
      "source": [
        "import pandas as pd\n",
        "\n",
        "# Load dataset in chunks\n",
        "chunk_size = 10**6  # Define a reasonable chunk size\n",
        "chunks = pd.read_csv('/content/traffic.csv', chunksize=chunk_size)\n",
        "\n",
        "for i, chunk in enumerate(chunks):\n",
        "    # Perform necessary operations on each chunk\n",
        "    chunk['DateTime'] = pd.to_datetime(chunk['DateTime'])\n",
        "    chunk['Vehicles'] = chunk['Vehicles'].astype('int16')\n",
        "    chunk['Junction'] = chunk['Junction'].astype('category')\n",
        "    chunk['ID'] = chunk['ID'].astype('category')\n",
        "\n",
        "    # You could save each processed chunk to a new file or append to a list\n",
        "    chunk.to_csv(f'processed_chunk_{i}.csv', index=False)\n",
        "    # Optionally, append chunks to a list for further processing\n",
        "    # processed_chunks.append(chunk)\n"
      ],
      "metadata": {
        "id": "jGyCAo8Kv0MX"
      },
      "execution_count": null,
      "outputs": []
    },
    {
      "cell_type": "markdown",
      "source": [
        "#### Create Combined chunk file and data frame creation"
      ],
      "metadata": {
        "id": "wZtrvetLnunU"
      }
    },
    {
      "source": [
        "number_of_chunks = 1\n",
        "\n",
        "# Load processed chunks and concatenate into a single DataFrame\n",
        "chunks = [pd.read_csv(f'/content/processed_chunk_0.csv') for i in range(number_of_chunks)]\n",
        "df_large = pd.concat(chunks, ignore_index=True)"
      ],
      "cell_type": "code",
      "metadata": {
        "id": "ui78bsQywW2j"
      },
      "execution_count": null,
      "outputs": []
    },
    {
      "cell_type": "code",
      "source": [
        "# List all the processed chunk file names\n",
        "chunk_files = [f'processed_chunk_{i}.csv' for i in range(number_of_chunks)]\n",
        "\n",
        "# Read and concatenate all the chunks\n",
        "chunks = [pd.read_csv(chunk_file) for chunk_file in chunk_files]\n",
        "df_large = pd.concat(chunks, ignore_index=True)\n",
        "\n",
        "# Display the combined DataFrame\n",
        "print(df_large.head())\n"
      ],
      "metadata": {
        "colab": {
          "base_uri": "https://localhost:8080/"
        },
        "id": "R6cx2IT9wJuG",
        "outputId": "4bad7e31-1fe6-40d8-e2f2-177f47c133f0"
      },
      "execution_count": null,
      "outputs": [
        {
          "output_type": "stream",
          "name": "stdout",
          "text": [
            "              DateTime  Junction  Vehicles           ID\n",
            "0  2015-11-01 00:00:00         1        15  20151101001\n",
            "1  2015-11-01 01:00:00         1        13  20151101011\n",
            "2  2015-11-01 02:00:00         1        10  20151101021\n",
            "3  2015-11-01 03:00:00         1         7  20151101031\n",
            "4  2015-11-01 04:00:00         1         9  20151101041\n"
          ]
        }
      ]
    },
    {
      "cell_type": "code",
      "source": [
        "df_large.to_csv('combined_dataset.csv', index=False)"
      ],
      "metadata": {
        "id": "Fsl_B9vCw7vw"
      },
      "execution_count": null,
      "outputs": []
    },
    {
      "cell_type": "code",
      "source": [
        "df['DateTime'] = pd.to_datetime(df['DateTime'])"
      ],
      "metadata": {
        "id": "ynP14gmHw_V-"
      },
      "execution_count": null,
      "outputs": []
    },
    {
      "cell_type": "code",
      "source": [
        "from sklearn.preprocessing import StandardScaler\n",
        "\n",
        "# Normalize vehicle counts\n",
        "scaler = StandardScaler()\n",
        "df_large['Vehicles'] = scaler.fit_transform(df_large[['Vehicles']])"
      ],
      "metadata": {
        "id": "BWuWR2xuxEgL"
      },
      "execution_count": null,
      "outputs": []
    },
    {
      "cell_type": "code",
      "source": [
        "import torch\n",
        "from torch_geometric.data import Data\n",
        "\n",
        "# Example feature matrix (vehicle counts for junctions, simplified for illustration)\n",
        "junction_features = torch.tensor(df.groupby('Junction').mean()['Vehicles'].values, dtype=torch.float).unsqueeze(1)\n",
        "\n",
        "# Edge index based on known connectivity (adjust according to your dataset)\n",
        "edge_index = torch.tensor([\n",
        "    [0, 1, 1, 2, 2, 3],\n",
        "    [1, 0, 2, 1, 3, 2]\n",
        "], dtype=torch.long)\n",
        "\n",
        "# Create PyTorch Geometric data object\n",
        "graph_data = Data(x=junction_features, edge_index=edge_index, y=torch.tensor(df['Vehicles'].values, dtype=torch.float))\n"
      ],
      "metadata": {
        "id": "W02OnrLdxIJT"
      },
      "execution_count": null,
      "outputs": []
    },
    {
      "cell_type": "markdown",
      "source": [
        "## Step-2 :Split Train and Test Data"
      ],
      "metadata": {
        "id": "zv5k7Jc0n_4P"
      }
    },
    {
      "cell_type": "code",
      "source": [
        "from sklearn.model_selection import train_test_split\n",
        "\n",
        "train_df, test_df = train_test_split(df, test_size=0.2, random_state=42, shuffle=False)\n",
        "\n",
        "# Ensure edge_index and features are consistent between splits\n"
      ],
      "metadata": {
        "id": "FUQaxc-cxOQL"
      },
      "execution_count": null,
      "outputs": []
    },
    {
      "source": [
        "!pip install torch-geometric\n",
        "import torch_geometric.data  # Correct import"
      ],
      "cell_type": "code",
      "metadata": {
        "colab": {
          "base_uri": "https://localhost:8080/"
        },
        "id": "bKzBDv4y0ZSJ",
        "outputId": "1d9ec4aa-3422-44f4-d8a6-087029846816"
      },
      "execution_count": null,
      "outputs": [
        {
          "output_type": "stream",
          "name": "stdout",
          "text": [
            "Requirement already satisfied: torch-geometric in /usr/local/lib/python3.10/dist-packages (2.6.1)\n",
            "Requirement already satisfied: aiohttp in /usr/local/lib/python3.10/dist-packages (from torch-geometric) (3.10.10)\n",
            "Requirement already satisfied: fsspec in /usr/local/lib/python3.10/dist-packages (from torch-geometric) (2024.6.1)\n",
            "Requirement already satisfied: jinja2 in /usr/local/lib/python3.10/dist-packages (from torch-geometric) (3.1.4)\n",
            "Requirement already satisfied: numpy in /usr/local/lib/python3.10/dist-packages (from torch-geometric) (1.26.4)\n",
            "Requirement already satisfied: psutil>=5.8.0 in /usr/local/lib/python3.10/dist-packages (from torch-geometric) (5.9.5)\n",
            "Requirement already satisfied: pyparsing in /usr/local/lib/python3.10/dist-packages (from torch-geometric) (3.2.0)\n",
            "Requirement already satisfied: requests in /usr/local/lib/python3.10/dist-packages (from torch-geometric) (2.32.3)\n",
            "Requirement already satisfied: tqdm in /usr/local/lib/python3.10/dist-packages (from torch-geometric) (4.66.5)\n",
            "Requirement already satisfied: aiohappyeyeballs>=2.3.0 in /usr/local/lib/python3.10/dist-packages (from aiohttp->torch-geometric) (2.4.3)\n",
            "Requirement already satisfied: aiosignal>=1.1.2 in /usr/local/lib/python3.10/dist-packages (from aiohttp->torch-geometric) (1.3.1)\n",
            "Requirement already satisfied: attrs>=17.3.0 in /usr/local/lib/python3.10/dist-packages (from aiohttp->torch-geometric) (24.2.0)\n",
            "Requirement already satisfied: frozenlist>=1.1.1 in /usr/local/lib/python3.10/dist-packages (from aiohttp->torch-geometric) (1.4.1)\n",
            "Requirement already satisfied: multidict<7.0,>=4.5 in /usr/local/lib/python3.10/dist-packages (from aiohttp->torch-geometric) (6.1.0)\n",
            "Requirement already satisfied: yarl<2.0,>=1.12.0 in /usr/local/lib/python3.10/dist-packages (from aiohttp->torch-geometric) (1.16.0)\n",
            "Requirement already satisfied: async-timeout<5.0,>=4.0 in /usr/local/lib/python3.10/dist-packages (from aiohttp->torch-geometric) (4.0.3)\n",
            "Requirement already satisfied: MarkupSafe>=2.0 in /usr/local/lib/python3.10/dist-packages (from jinja2->torch-geometric) (3.0.2)\n",
            "Requirement already satisfied: charset-normalizer<4,>=2 in /usr/local/lib/python3.10/dist-packages (from requests->torch-geometric) (3.4.0)\n",
            "Requirement already satisfied: idna<4,>=2.5 in /usr/local/lib/python3.10/dist-packages (from requests->torch-geometric) (3.10)\n",
            "Requirement already satisfied: urllib3<3,>=1.21.1 in /usr/local/lib/python3.10/dist-packages (from requests->torch-geometric) (2.2.3)\n",
            "Requirement already satisfied: certifi>=2017.4.17 in /usr/local/lib/python3.10/dist-packages (from requests->torch-geometric) (2024.8.30)\n",
            "Requirement already satisfied: typing-extensions>=4.1.0 in /usr/local/lib/python3.10/dist-packages (from multidict<7.0,>=4.5->aiohttp->torch-geometric) (4.12.2)\n",
            "Requirement already satisfied: propcache>=0.2.0 in /usr/local/lib/python3.10/dist-packages (from yarl<2.0,>=1.12.0->aiohttp->torch-geometric) (0.2.0)\n"
          ]
        }
      ]
    },
    {
      "cell_type": "code",
      "source": [
        "from torch_geometric.data import Batch"
      ],
      "metadata": {
        "id": "1xxAeeC3xWmc"
      },
      "execution_count": null,
      "outputs": []
    },
    {
      "cell_type": "markdown",
      "source": [
        "#### Define and Creating Graph Structure"
      ],
      "metadata": {
        "id": "kFKFcG9ooJSW"
      }
    },
    {
      "cell_type": "code",
      "source": [
        "# Define the function to create a graph structure for a chunk\n",
        "def create_graph_structure(chunk):\n",
        "    # Normalize vehicle counts within the chunk\n",
        "    scaler = StandardScaler()\n",
        "    chunk['Vehicles'] = scaler.fit_transform(chunk[['Vehicles']])\n",
        "\n",
        "    # Create a feature matrix (e.g., vehicle counts at junctions)\n",
        "    junction_features = torch.tensor(chunk.groupby('Junction').mean()['Vehicles'].values, dtype=torch.float).unsqueeze(1)\n",
        "\n",
        "    # Define edges (needs to be determined based on your actual dataset's connectivity logic)\n",
        "    # Example: Create edge_index from actual connections in the chunk\n",
        "    # Note: You need to adjust this part according to your specific connections\n",
        "    connections_df = pd.DataFrame({\n",
        "        'Junction': chunk['Junction'],  # Your logic to define 'Junction'\n",
        "        'ConnectedJunction': chunk['Junction'].shift(-1, fill_value=chunk['Junction'].iloc[0])  # Example connection logic\n",
        "    })\n",
        "    edge_index = torch.tensor(connections_df.values.T, dtype=torch.long)\n",
        "\n",
        "    return Data(x=junction_features, edge_index=edge_index, y=torch.tensor(chunk['Vehicles'].values, dtype=torch.float))\n"
      ],
      "metadata": {
        "id": "auGwGOuG0h8M"
      },
      "execution_count": null,
      "outputs": []
    },
    {
      "source": [
        "def create_graph_structure(chunk):\n",
        "    # Normalize vehicle counts within the chunk\n",
        "    scaler = StandardScaler()\n",
        "    chunk['Vehicles'] = scaler.fit_transform(chunk[['Vehicles']])\n",
        "\n",
        "    # Create a feature matrix (vehicle counts at junctions)\n",
        "    junction_features = torch.tensor(chunk.groupby('Junction').mean()['Vehicles'].values, dtype=torch.float).unsqueeze(1)\n",
        "\n",
        "    # Define edges (needs to be determined based on your actual dataset's connectivity logic)\n",
        "    connections_df = pd.DataFrame({\n",
        "        'Junction': chunk['Junction'],\n",
        "        'ConnectedJunction': chunk['Junction'].shift(-1, fill_value=chunk['Junction'].iloc[0])\n",
        "    })\n",
        "    edge_index = torch.tensor(connections_df.values.T, dtype=torch.long)\n",
        "\n",
        "    return Data(x=junction_features, edge_index=edge_index, y=torch.tensor(chunk['Vehicles'].values, dtype=torch.float))\n"
      ],
      "cell_type": "code",
      "metadata": {
        "id": "LT6thXqL00Y0"
      },
      "execution_count": null,
      "outputs": []
    },
    {
      "source": [
        "def create_graph_structure(chunk):\n",
        "    # Check if 'Vehicles' column is already numeric\n",
        "    if pd.api.types.is_numeric_dtype(chunk['Vehicles']):\n",
        "        # If already numeric, no need to extract digits\n",
        "        vehicle_counts = chunk['Vehicles']\n",
        "    else:\n",
        "        # If not numeric, attempt to extract digits and convert to float\n",
        "        vehicle_counts = chunk['Vehicles'].str.extract('(\\d+)').astype(float).squeeze()\n",
        "\n",
        "    # Normalize vehicle counts within the chunk\n",
        "    scaler = StandardScaler()\n",
        "    chunk['Vehicles'] = scaler.fit_transform(vehicle_counts.values.reshape(-1, 1)) # Reshape for scaler\n",
        "\n",
        "    # Create a feature matrix (e.g., vehicle counts at junctions)\n",
        "    junction_features = torch.tensor(chunk.groupby('Junction').mean()['Vehicles'].values, dtype=torch.float).unsqueeze(1)\n",
        "\n",
        "    # Define edges (needs to be determined based on your actual dataset's connectivity logic)\n",
        "    # Example: Create edge_index from actual connections in the chunk\n",
        "    # Note: You need to adjust this part according to your specific connections\n",
        "    connections_df = pd.DataFrame({\n",
        "        'Junction': chunk['Junction'],  # Your logic to define 'Junction'\n",
        "        'ConnectedJunction': chunk['Junction'].shift(-1, fill_value=chunk['Junction'].iloc[0])  # Example connection logic\n",
        "    })\n",
        "    edge_index = torch.tensor(connections_df.values.T, dtype=torch.long)\n",
        "\n",
        "    return Data(x=junction_features, edge_index=edge_index, y=torch.tensor(chunk['Vehicles'].values, dtype=torch.float))"
      ],
      "cell_type": "code",
      "metadata": {
        "id": "louoqxQr10iG"
      },
      "execution_count": null,
      "outputs": []
    },
    {
      "cell_type": "code",
      "source": [
        "import pandas as pd\n",
        "import torch\n",
        "from torch_geometric.data import Data, Batch\n",
        "from sklearn.preprocessing import StandardScaler\n",
        "\n",
        "def create_graph_structure(chunk):\n",
        "    scaler = StandardScaler()\n",
        "    chunk['Vehicles'] = scaler.fit_transform(chunk[['Vehicles']])\n",
        "\n",
        "    junction_features = torch.tensor(chunk.groupby('Junction').mean()['Vehicles'].values, dtype=torch.float).unsqueeze(1)\n",
        "\n",
        "    connections_df = pd.DataFrame({\n",
        "        'Junction': chunk['Junction'],\n",
        "        'ConnectedJunction': chunk['Junction'].shift(-1, fill_value=chunk['Junction'].iloc[0])\n",
        "    })\n",
        "    edge_index = torch.tensor(connections_df.values.T, dtype=torch.long)\n",
        "\n",
        "    return Data(x=junction_features, edge_index=edge_index, y=torch.tensor(chunk['Vehicles'].values, dtype=torch.float))\n"
      ],
      "metadata": {
        "id": "FbRcn88R0v09"
      },
      "execution_count": null,
      "outputs": []
    },
    {
      "cell_type": "code",
      "source": [
        "def create_graph_structure(chunk):\n",
        "    # Ensure 'Vehicles' column is numeric\n",
        "    chunk['Vehicles'] = pd.to_numeric(chunk['Vehicles'], errors='coerce')\n",
        "\n",
        "    # Drop rows where 'Vehicles' is NaN\n",
        "    chunk.dropna(subset=['Vehicles'], inplace=True)\n",
        "\n",
        "    # Normalize vehicle counts within the chunk\n",
        "    scaler = StandardScaler()\n",
        "    chunk['Vehicles'] = scaler.fit_transform(chunk[['Vehicles']])\n",
        "\n",
        "    # Create a feature matrix (vehicle counts at junctions)\n",
        "    junction_features = torch.tensor(chunk.groupby('Junction').mean()['Vehicles'].values, dtype=torch.float).unsqueeze(1)\n",
        "\n",
        "    # Define edges based on connectivity logic\n",
        "    connections_df = pd.DataFrame({\n",
        "        'Junction': chunk['Junction'],\n",
        "        'ConnectedJunction': chunk['Junction'].shift(-1, fill_value=chunk['Junction'].iloc[0])\n",
        "    })\n",
        "    edge_index = torch.tensor(connections_df.values.T, dtype=torch.long)\n",
        "\n",
        "    return Data(x=junction_features, edge_index=edge_index, y=torch.tensor(chunk['Vehicles'].values, dtype=torch.float))\n"
      ],
      "metadata": {
        "id": "QGWP1u3V2XHW"
      },
      "execution_count": null,
      "outputs": []
    },
    {
      "source": [
        "import pandas as pd\n",
        "import torch\n",
        "from torch_geometric.data import Data, Batch\n",
        "from sklearn.preprocessing import StandardScaler\n",
        "\n",
        "def create_graph_structure(chunk):\n",
        "    # Attempt to convert 'Vehicles' column to numeric, handling errors\n",
        "    try:\n",
        "        chunk['Vehicles'] = pd.to_numeric(chunk['Vehicles'])\n",
        "    except ValueError:\n",
        "        # If conversion fails, try extracting numeric part using regex\n",
        "        chunk['Vehicles'] = chunk['Vehicles'].str.extract('(\\d+)').astype(float).squeeze()\n",
        "\n",
        "    # ... (rest of your function remains the same) ..."
      ],
      "cell_type": "code",
      "metadata": {
        "id": "ZWbrmWO92zPV"
      },
      "execution_count": null,
      "outputs": []
    },
    {
      "cell_type": "code",
      "source": [
        "# Step 1: Load the dataset\n",
        "df = pd.read_csv('/content/processed_chunk_0.csv')\n",
        "\n",
        "# Convert 'DateTime' to datetime format\n",
        "df['DateTime'] = pd.to_datetime(df['DateTime'])  # This will convert string to datetime\n",
        "\n",
        "# Continue with the rest of your processing...\n"
      ],
      "metadata": {
        "id": "RqOtIEs947qj"
      },
      "execution_count": null,
      "outputs": []
    },
    {
      "cell_type": "code",
      "source": [
        "# Step 1: Load the dataset\n",
        "df = pd.read_csv('/content/processed_chunk_0.csv')\n",
        "\n",
        "# Convert 'DateTime' from string to datetime format\n",
        "df['DateTime'] = pd.to_datetime(df['DateTime'])\n",
        "\n",
        "# Convert 'Vehicle_Count' from string to numeric\n",
        "df['Vehicles'] = pd.to_numeric(df['Vehicles'], errors='coerce')\n",
        "\n",
        "# Check the DataFrame\n",
        "print(df.head())  # Display the first few rows to verify\n",
        "print(df.dtypes)  # Verify the data types\n"
      ],
      "metadata": {
        "colab": {
          "base_uri": "https://localhost:8080/"
        },
        "id": "ySieWwjd2rDi",
        "outputId": "acf20a79-c794-4f8f-8f53-96b042521846"
      },
      "execution_count": null,
      "outputs": [
        {
          "output_type": "stream",
          "name": "stdout",
          "text": [
            "             DateTime  Junction  Vehicles           ID\n",
            "0 2015-11-01 00:00:00         1        15  20151101001\n",
            "1 2015-11-01 01:00:00         1        13  20151101011\n",
            "2 2015-11-01 02:00:00         1        10  20151101021\n",
            "3 2015-11-01 03:00:00         1         7  20151101031\n",
            "4 2015-11-01 04:00:00         1         9  20151101041\n",
            "DateTime    datetime64[ns]\n",
            "Junction             int64\n",
            "Vehicles             int64\n",
            "ID                   int64\n",
            "dtype: object\n"
          ]
        }
      ]
    },
    {
      "cell_type": "code",
      "source": [
        "import pandas as pd\n",
        "import torch\n",
        "from torch_geometric.data import Data, Batch\n",
        "from sklearn.preprocessing import StandardScaler\n",
        "\n",
        "def create_graph_structure(chunk):\n",
        "    scaler = StandardScaler()\n",
        "    chunk['Vehicles'] = scaler.fit_transform(chunk[['Vehicles']])\n",
        "\n",
        "    junction_features = torch.tensor(chunk.groupby('Junction').mean()['Vehicles'].values, dtype=torch.float).unsqueeze(1)\n",
        "\n",
        "    connections_df = pd.DataFrame({\n",
        "        'Junction': chunk['Junction'],\n",
        "        'ConnectedJunction': chunk['Junction'].shift(-1, fill_value=chunk['Junction'].iloc[0])\n",
        "    })\n",
        "    edge_index = torch.tensor(connections_df.values.T, dtype=torch.long)\n",
        "\n",
        "    return Data(x=junction_features, edge_index=edge_index, y=torch.tensor(chunk['Vehicles'].values, dtype=torch.float))\n"
      ],
      "metadata": {
        "id": "oCEUB1iY3aNt"
      },
      "execution_count": null,
      "outputs": []
    },
    {
      "cell_type": "markdown",
      "source": [
        "## Creating Graph Structure"
      ],
      "metadata": {
        "id": "5bjGhvYAocfQ"
      }
    },
    {
      "cell_type": "code",
      "source": [
        "from sklearn.preprocessing import StandardScaler\n",
        "def create_graph_structure(chunk):\n",
        "    # Ensure the DateTime column is in datetime format\n",
        "    chunk['DateTime'] = pd.to_datetime(chunk['DateTime'])\n",
        "\n",
        "    # Scale the vehicle counts\n",
        "    scaler = StandardScaler()\n",
        "    chunk['Vehicles'] = scaler.fit_transform(chunk[['Vehicles']])  # Assuming 'Vehicle_Count' is the correct column name\n",
        "\n",
        "    # Create features for each junction\n",
        "    junction_features = torch.tensor(chunk.groupby('Junction').mean()['Vehicles'].values, dtype=torch.float).unsqueeze(1)\n",
        "\n",
        "    # Create connections (edges) based on your logic\n",
        "    # Here, we assume connections are based on a simple shift for demonstration\n",
        "    connections_df = pd.DataFrame({\n",
        "        'Junction': chunk['Junction'],\n",
        "        'ConnectedJunction': chunk['Junction'].shift(-1, fill_value=chunk['Junction'].iloc[0])\n",
        "    })\n",
        "    edge_index = torch.tensor(connections_df.values.T, dtype=torch.long)\n",
        "\n",
        "    # Create a Data object for PyTorch Geometric\n",
        "    return Data(x=junction_features, edge_index=edge_index, y=torch.tensor(chunk['Vehicles'].values, dtype=torch.float))\n",
        "\n",
        "# Example usage\n",
        "# Load your data\n",
        "# Step 1: Load the dataset\n",
        "df = pd.read_csv('/content/processed_chunk_0.csv')\n",
        "\n",
        "# Convert 'DateTime' from string to datetime format\n",
        "df['DateTime'] = pd.to_datetime(df['DateTime'])\n",
        "\n",
        "# Convert 'Vehicle_Count' from string to numeric\n",
        "df['Vehicles'] = pd.to_numeric(df['Vehicles'], errors='coerce')\n",
        "\n",
        "# Check the DataFrame\n",
        "print(df.head())  # Display the first few rows to verify\n",
        "print(df.dtypes)  # Verify the data types\n",
        "\n",
        "# Assume you have defined a chunk size and process the data in chunks\n",
        "chunk_size = 1000  # Adjust this based on your dataset size and memory constraints\n",
        "\n",
        "# Process data in chunks\n",
        "for start in range(0, len(data), chunk_size):\n",
        "    chunk = data.iloc[start:start + chunk_size]\n",
        "    graph_data = create_graph_structure(chunk)\n"
      ],
      "metadata": {
        "colab": {
          "base_uri": "https://localhost:8080/"
        },
        "id": "wGknaXaC66Lr",
        "outputId": "2aa45d7a-e1b1-47cb-8b5d-f1fe92877a05"
      },
      "execution_count": null,
      "outputs": [
        {
          "output_type": "stream",
          "name": "stdout",
          "text": [
            "             DateTime  Junction  Vehicles           ID\n",
            "0 2015-11-01 00:00:00         1        15  20151101001\n",
            "1 2015-11-01 01:00:00         1        13  20151101011\n",
            "2 2015-11-01 02:00:00         1        10  20151101021\n",
            "3 2015-11-01 03:00:00         1         7  20151101031\n",
            "4 2015-11-01 04:00:00         1         9  20151101041\n",
            "DateTime    datetime64[ns]\n",
            "Junction             int64\n",
            "Vehicles             int64\n",
            "ID                   int64\n",
            "dtype: object\n"
          ]
        },
        {
          "output_type": "stream",
          "name": "stderr",
          "text": [
            "<ipython-input-86-f274ec321bc2>:4: SettingWithCopyWarning: \n",
            "A value is trying to be set on a copy of a slice from a DataFrame.\n",
            "Try using .loc[row_indexer,col_indexer] = value instead\n",
            "\n",
            "See the caveats in the documentation: https://pandas.pydata.org/pandas-docs/stable/user_guide/indexing.html#returning-a-view-versus-a-copy\n",
            "  chunk['DateTime'] = pd.to_datetime(chunk['DateTime'])\n",
            "<ipython-input-86-f274ec321bc2>:8: SettingWithCopyWarning: \n",
            "A value is trying to be set on a copy of a slice from a DataFrame.\n",
            "Try using .loc[row_indexer,col_indexer] = value instead\n",
            "\n",
            "See the caveats in the documentation: https://pandas.pydata.org/pandas-docs/stable/user_guide/indexing.html#returning-a-view-versus-a-copy\n",
            "  chunk['Vehicles'] = scaler.fit_transform(chunk[['Vehicles']])  # Assuming 'Vehicle_Count' is the correct column name\n",
            "<ipython-input-86-f274ec321bc2>:4: SettingWithCopyWarning: \n",
            "A value is trying to be set on a copy of a slice from a DataFrame.\n",
            "Try using .loc[row_indexer,col_indexer] = value instead\n",
            "\n",
            "See the caveats in the documentation: https://pandas.pydata.org/pandas-docs/stable/user_guide/indexing.html#returning-a-view-versus-a-copy\n",
            "  chunk['DateTime'] = pd.to_datetime(chunk['DateTime'])\n",
            "<ipython-input-86-f274ec321bc2>:8: SettingWithCopyWarning: \n",
            "A value is trying to be set on a copy of a slice from a DataFrame.\n",
            "Try using .loc[row_indexer,col_indexer] = value instead\n",
            "\n",
            "See the caveats in the documentation: https://pandas.pydata.org/pandas-docs/stable/user_guide/indexing.html#returning-a-view-versus-a-copy\n",
            "  chunk['Vehicles'] = scaler.fit_transform(chunk[['Vehicles']])  # Assuming 'Vehicle_Count' is the correct column name\n",
            "<ipython-input-86-f274ec321bc2>:4: SettingWithCopyWarning: \n",
            "A value is trying to be set on a copy of a slice from a DataFrame.\n",
            "Try using .loc[row_indexer,col_indexer] = value instead\n",
            "\n",
            "See the caveats in the documentation: https://pandas.pydata.org/pandas-docs/stable/user_guide/indexing.html#returning-a-view-versus-a-copy\n",
            "  chunk['DateTime'] = pd.to_datetime(chunk['DateTime'])\n",
            "<ipython-input-86-f274ec321bc2>:8: SettingWithCopyWarning: \n",
            "A value is trying to be set on a copy of a slice from a DataFrame.\n",
            "Try using .loc[row_indexer,col_indexer] = value instead\n",
            "\n",
            "See the caveats in the documentation: https://pandas.pydata.org/pandas-docs/stable/user_guide/indexing.html#returning-a-view-versus-a-copy\n",
            "  chunk['Vehicles'] = scaler.fit_transform(chunk[['Vehicles']])  # Assuming 'Vehicle_Count' is the correct column name\n",
            "<ipython-input-86-f274ec321bc2>:4: SettingWithCopyWarning: \n",
            "A value is trying to be set on a copy of a slice from a DataFrame.\n",
            "Try using .loc[row_indexer,col_indexer] = value instead\n",
            "\n",
            "See the caveats in the documentation: https://pandas.pydata.org/pandas-docs/stable/user_guide/indexing.html#returning-a-view-versus-a-copy\n",
            "  chunk['DateTime'] = pd.to_datetime(chunk['DateTime'])\n",
            "<ipython-input-86-f274ec321bc2>:8: SettingWithCopyWarning: \n",
            "A value is trying to be set on a copy of a slice from a DataFrame.\n",
            "Try using .loc[row_indexer,col_indexer] = value instead\n",
            "\n",
            "See the caveats in the documentation: https://pandas.pydata.org/pandas-docs/stable/user_guide/indexing.html#returning-a-view-versus-a-copy\n",
            "  chunk['Vehicles'] = scaler.fit_transform(chunk[['Vehicles']])  # Assuming 'Vehicle_Count' is the correct column name\n",
            "<ipython-input-86-f274ec321bc2>:4: SettingWithCopyWarning: \n",
            "A value is trying to be set on a copy of a slice from a DataFrame.\n",
            "Try using .loc[row_indexer,col_indexer] = value instead\n",
            "\n",
            "See the caveats in the documentation: https://pandas.pydata.org/pandas-docs/stable/user_guide/indexing.html#returning-a-view-versus-a-copy\n",
            "  chunk['DateTime'] = pd.to_datetime(chunk['DateTime'])\n",
            "<ipython-input-86-f274ec321bc2>:8: SettingWithCopyWarning: \n",
            "A value is trying to be set on a copy of a slice from a DataFrame.\n",
            "Try using .loc[row_indexer,col_indexer] = value instead\n",
            "\n",
            "See the caveats in the documentation: https://pandas.pydata.org/pandas-docs/stable/user_guide/indexing.html#returning-a-view-versus-a-copy\n",
            "  chunk['Vehicles'] = scaler.fit_transform(chunk[['Vehicles']])  # Assuming 'Vehicle_Count' is the correct column name\n",
            "<ipython-input-86-f274ec321bc2>:4: SettingWithCopyWarning: \n",
            "A value is trying to be set on a copy of a slice from a DataFrame.\n",
            "Try using .loc[row_indexer,col_indexer] = value instead\n",
            "\n",
            "See the caveats in the documentation: https://pandas.pydata.org/pandas-docs/stable/user_guide/indexing.html#returning-a-view-versus-a-copy\n",
            "  chunk['DateTime'] = pd.to_datetime(chunk['DateTime'])\n",
            "<ipython-input-86-f274ec321bc2>:8: SettingWithCopyWarning: \n",
            "A value is trying to be set on a copy of a slice from a DataFrame.\n",
            "Try using .loc[row_indexer,col_indexer] = value instead\n",
            "\n",
            "See the caveats in the documentation: https://pandas.pydata.org/pandas-docs/stable/user_guide/indexing.html#returning-a-view-versus-a-copy\n",
            "  chunk['Vehicles'] = scaler.fit_transform(chunk[['Vehicles']])  # Assuming 'Vehicle_Count' is the correct column name\n",
            "<ipython-input-86-f274ec321bc2>:4: SettingWithCopyWarning: \n",
            "A value is trying to be set on a copy of a slice from a DataFrame.\n",
            "Try using .loc[row_indexer,col_indexer] = value instead\n",
            "\n",
            "See the caveats in the documentation: https://pandas.pydata.org/pandas-docs/stable/user_guide/indexing.html#returning-a-view-versus-a-copy\n",
            "  chunk['DateTime'] = pd.to_datetime(chunk['DateTime'])\n",
            "<ipython-input-86-f274ec321bc2>:8: SettingWithCopyWarning: \n",
            "A value is trying to be set on a copy of a slice from a DataFrame.\n",
            "Try using .loc[row_indexer,col_indexer] = value instead\n",
            "\n",
            "See the caveats in the documentation: https://pandas.pydata.org/pandas-docs/stable/user_guide/indexing.html#returning-a-view-versus-a-copy\n",
            "  chunk['Vehicles'] = scaler.fit_transform(chunk[['Vehicles']])  # Assuming 'Vehicle_Count' is the correct column name\n",
            "<ipython-input-86-f274ec321bc2>:4: SettingWithCopyWarning: \n",
            "A value is trying to be set on a copy of a slice from a DataFrame.\n",
            "Try using .loc[row_indexer,col_indexer] = value instead\n",
            "\n",
            "See the caveats in the documentation: https://pandas.pydata.org/pandas-docs/stable/user_guide/indexing.html#returning-a-view-versus-a-copy\n",
            "  chunk['DateTime'] = pd.to_datetime(chunk['DateTime'])\n",
            "<ipython-input-86-f274ec321bc2>:8: SettingWithCopyWarning: \n",
            "A value is trying to be set on a copy of a slice from a DataFrame.\n",
            "Try using .loc[row_indexer,col_indexer] = value instead\n",
            "\n",
            "See the caveats in the documentation: https://pandas.pydata.org/pandas-docs/stable/user_guide/indexing.html#returning-a-view-versus-a-copy\n",
            "  chunk['Vehicles'] = scaler.fit_transform(chunk[['Vehicles']])  # Assuming 'Vehicle_Count' is the correct column name\n",
            "<ipython-input-86-f274ec321bc2>:4: SettingWithCopyWarning: \n",
            "A value is trying to be set on a copy of a slice from a DataFrame.\n",
            "Try using .loc[row_indexer,col_indexer] = value instead\n",
            "\n",
            "See the caveats in the documentation: https://pandas.pydata.org/pandas-docs/stable/user_guide/indexing.html#returning-a-view-versus-a-copy\n",
            "  chunk['DateTime'] = pd.to_datetime(chunk['DateTime'])\n",
            "<ipython-input-86-f274ec321bc2>:8: SettingWithCopyWarning: \n",
            "A value is trying to be set on a copy of a slice from a DataFrame.\n",
            "Try using .loc[row_indexer,col_indexer] = value instead\n",
            "\n",
            "See the caveats in the documentation: https://pandas.pydata.org/pandas-docs/stable/user_guide/indexing.html#returning-a-view-versus-a-copy\n",
            "  chunk['Vehicles'] = scaler.fit_transform(chunk[['Vehicles']])  # Assuming 'Vehicle_Count' is the correct column name\n",
            "<ipython-input-86-f274ec321bc2>:4: SettingWithCopyWarning: \n",
            "A value is trying to be set on a copy of a slice from a DataFrame.\n",
            "Try using .loc[row_indexer,col_indexer] = value instead\n",
            "\n",
            "See the caveats in the documentation: https://pandas.pydata.org/pandas-docs/stable/user_guide/indexing.html#returning-a-view-versus-a-copy\n",
            "  chunk['DateTime'] = pd.to_datetime(chunk['DateTime'])\n",
            "<ipython-input-86-f274ec321bc2>:8: SettingWithCopyWarning: \n",
            "A value is trying to be set on a copy of a slice from a DataFrame.\n",
            "Try using .loc[row_indexer,col_indexer] = value instead\n",
            "\n",
            "See the caveats in the documentation: https://pandas.pydata.org/pandas-docs/stable/user_guide/indexing.html#returning-a-view-versus-a-copy\n",
            "  chunk['Vehicles'] = scaler.fit_transform(chunk[['Vehicles']])  # Assuming 'Vehicle_Count' is the correct column name\n",
            "<ipython-input-86-f274ec321bc2>:4: SettingWithCopyWarning: \n",
            "A value is trying to be set on a copy of a slice from a DataFrame.\n",
            "Try using .loc[row_indexer,col_indexer] = value instead\n",
            "\n",
            "See the caveats in the documentation: https://pandas.pydata.org/pandas-docs/stable/user_guide/indexing.html#returning-a-view-versus-a-copy\n",
            "  chunk['DateTime'] = pd.to_datetime(chunk['DateTime'])\n",
            "<ipython-input-86-f274ec321bc2>:8: SettingWithCopyWarning: \n",
            "A value is trying to be set on a copy of a slice from a DataFrame.\n",
            "Try using .loc[row_indexer,col_indexer] = value instead\n",
            "\n",
            "See the caveats in the documentation: https://pandas.pydata.org/pandas-docs/stable/user_guide/indexing.html#returning-a-view-versus-a-copy\n",
            "  chunk['Vehicles'] = scaler.fit_transform(chunk[['Vehicles']])  # Assuming 'Vehicle_Count' is the correct column name\n",
            "<ipython-input-86-f274ec321bc2>:4: SettingWithCopyWarning: \n",
            "A value is trying to be set on a copy of a slice from a DataFrame.\n",
            "Try using .loc[row_indexer,col_indexer] = value instead\n",
            "\n",
            "See the caveats in the documentation: https://pandas.pydata.org/pandas-docs/stable/user_guide/indexing.html#returning-a-view-versus-a-copy\n",
            "  chunk['DateTime'] = pd.to_datetime(chunk['DateTime'])\n",
            "<ipython-input-86-f274ec321bc2>:8: SettingWithCopyWarning: \n",
            "A value is trying to be set on a copy of a slice from a DataFrame.\n",
            "Try using .loc[row_indexer,col_indexer] = value instead\n",
            "\n",
            "See the caveats in the documentation: https://pandas.pydata.org/pandas-docs/stable/user_guide/indexing.html#returning-a-view-versus-a-copy\n",
            "  chunk['Vehicles'] = scaler.fit_transform(chunk[['Vehicles']])  # Assuming 'Vehicle_Count' is the correct column name\n",
            "<ipython-input-86-f274ec321bc2>:4: SettingWithCopyWarning: \n",
            "A value is trying to be set on a copy of a slice from a DataFrame.\n",
            "Try using .loc[row_indexer,col_indexer] = value instead\n",
            "\n",
            "See the caveats in the documentation: https://pandas.pydata.org/pandas-docs/stable/user_guide/indexing.html#returning-a-view-versus-a-copy\n",
            "  chunk['DateTime'] = pd.to_datetime(chunk['DateTime'])\n",
            "<ipython-input-86-f274ec321bc2>:8: SettingWithCopyWarning: \n",
            "A value is trying to be set on a copy of a slice from a DataFrame.\n",
            "Try using .loc[row_indexer,col_indexer] = value instead\n",
            "\n",
            "See the caveats in the documentation: https://pandas.pydata.org/pandas-docs/stable/user_guide/indexing.html#returning-a-view-versus-a-copy\n",
            "  chunk['Vehicles'] = scaler.fit_transform(chunk[['Vehicles']])  # Assuming 'Vehicle_Count' is the correct column name\n",
            "<ipython-input-86-f274ec321bc2>:4: SettingWithCopyWarning: \n",
            "A value is trying to be set on a copy of a slice from a DataFrame.\n",
            "Try using .loc[row_indexer,col_indexer] = value instead\n",
            "\n",
            "See the caveats in the documentation: https://pandas.pydata.org/pandas-docs/stable/user_guide/indexing.html#returning-a-view-versus-a-copy\n",
            "  chunk['DateTime'] = pd.to_datetime(chunk['DateTime'])\n",
            "<ipython-input-86-f274ec321bc2>:8: SettingWithCopyWarning: \n",
            "A value is trying to be set on a copy of a slice from a DataFrame.\n",
            "Try using .loc[row_indexer,col_indexer] = value instead\n",
            "\n",
            "See the caveats in the documentation: https://pandas.pydata.org/pandas-docs/stable/user_guide/indexing.html#returning-a-view-versus-a-copy\n",
            "  chunk['Vehicles'] = scaler.fit_transform(chunk[['Vehicles']])  # Assuming 'Vehicle_Count' is the correct column name\n",
            "<ipython-input-86-f274ec321bc2>:4: SettingWithCopyWarning: \n",
            "A value is trying to be set on a copy of a slice from a DataFrame.\n",
            "Try using .loc[row_indexer,col_indexer] = value instead\n",
            "\n",
            "See the caveats in the documentation: https://pandas.pydata.org/pandas-docs/stable/user_guide/indexing.html#returning-a-view-versus-a-copy\n",
            "  chunk['DateTime'] = pd.to_datetime(chunk['DateTime'])\n",
            "<ipython-input-86-f274ec321bc2>:8: SettingWithCopyWarning: \n",
            "A value is trying to be set on a copy of a slice from a DataFrame.\n",
            "Try using .loc[row_indexer,col_indexer] = value instead\n",
            "\n",
            "See the caveats in the documentation: https://pandas.pydata.org/pandas-docs/stable/user_guide/indexing.html#returning-a-view-versus-a-copy\n",
            "  chunk['Vehicles'] = scaler.fit_transform(chunk[['Vehicles']])  # Assuming 'Vehicle_Count' is the correct column name\n",
            "<ipython-input-86-f274ec321bc2>:4: SettingWithCopyWarning: \n",
            "A value is trying to be set on a copy of a slice from a DataFrame.\n",
            "Try using .loc[row_indexer,col_indexer] = value instead\n",
            "\n",
            "See the caveats in the documentation: https://pandas.pydata.org/pandas-docs/stable/user_guide/indexing.html#returning-a-view-versus-a-copy\n",
            "  chunk['DateTime'] = pd.to_datetime(chunk['DateTime'])\n",
            "<ipython-input-86-f274ec321bc2>:8: SettingWithCopyWarning: \n",
            "A value is trying to be set on a copy of a slice from a DataFrame.\n",
            "Try using .loc[row_indexer,col_indexer] = value instead\n",
            "\n",
            "See the caveats in the documentation: https://pandas.pydata.org/pandas-docs/stable/user_guide/indexing.html#returning-a-view-versus-a-copy\n",
            "  chunk['Vehicles'] = scaler.fit_transform(chunk[['Vehicles']])  # Assuming 'Vehicle_Count' is the correct column name\n",
            "<ipython-input-86-f274ec321bc2>:4: SettingWithCopyWarning: \n",
            "A value is trying to be set on a copy of a slice from a DataFrame.\n",
            "Try using .loc[row_indexer,col_indexer] = value instead\n",
            "\n",
            "See the caveats in the documentation: https://pandas.pydata.org/pandas-docs/stable/user_guide/indexing.html#returning-a-view-versus-a-copy\n",
            "  chunk['DateTime'] = pd.to_datetime(chunk['DateTime'])\n",
            "<ipython-input-86-f274ec321bc2>:8: SettingWithCopyWarning: \n",
            "A value is trying to be set on a copy of a slice from a DataFrame.\n",
            "Try using .loc[row_indexer,col_indexer] = value instead\n",
            "\n",
            "See the caveats in the documentation: https://pandas.pydata.org/pandas-docs/stable/user_guide/indexing.html#returning-a-view-versus-a-copy\n",
            "  chunk['Vehicles'] = scaler.fit_transform(chunk[['Vehicles']])  # Assuming 'Vehicle_Count' is the correct column name\n",
            "<ipython-input-86-f274ec321bc2>:4: SettingWithCopyWarning: \n",
            "A value is trying to be set on a copy of a slice from a DataFrame.\n",
            "Try using .loc[row_indexer,col_indexer] = value instead\n",
            "\n",
            "See the caveats in the documentation: https://pandas.pydata.org/pandas-docs/stable/user_guide/indexing.html#returning-a-view-versus-a-copy\n",
            "  chunk['DateTime'] = pd.to_datetime(chunk['DateTime'])\n",
            "<ipython-input-86-f274ec321bc2>:8: SettingWithCopyWarning: \n",
            "A value is trying to be set on a copy of a slice from a DataFrame.\n",
            "Try using .loc[row_indexer,col_indexer] = value instead\n",
            "\n",
            "See the caveats in the documentation: https://pandas.pydata.org/pandas-docs/stable/user_guide/indexing.html#returning-a-view-versus-a-copy\n",
            "  chunk['Vehicles'] = scaler.fit_transform(chunk[['Vehicles']])  # Assuming 'Vehicle_Count' is the correct column name\n",
            "<ipython-input-86-f274ec321bc2>:4: SettingWithCopyWarning: \n",
            "A value is trying to be set on a copy of a slice from a DataFrame.\n",
            "Try using .loc[row_indexer,col_indexer] = value instead\n",
            "\n",
            "See the caveats in the documentation: https://pandas.pydata.org/pandas-docs/stable/user_guide/indexing.html#returning-a-view-versus-a-copy\n",
            "  chunk['DateTime'] = pd.to_datetime(chunk['DateTime'])\n",
            "<ipython-input-86-f274ec321bc2>:8: SettingWithCopyWarning: \n",
            "A value is trying to be set on a copy of a slice from a DataFrame.\n",
            "Try using .loc[row_indexer,col_indexer] = value instead\n",
            "\n",
            "See the caveats in the documentation: https://pandas.pydata.org/pandas-docs/stable/user_guide/indexing.html#returning-a-view-versus-a-copy\n",
            "  chunk['Vehicles'] = scaler.fit_transform(chunk[['Vehicles']])  # Assuming 'Vehicle_Count' is the correct column name\n",
            "<ipython-input-86-f274ec321bc2>:4: SettingWithCopyWarning: \n",
            "A value is trying to be set on a copy of a slice from a DataFrame.\n",
            "Try using .loc[row_indexer,col_indexer] = value instead\n",
            "\n",
            "See the caveats in the documentation: https://pandas.pydata.org/pandas-docs/stable/user_guide/indexing.html#returning-a-view-versus-a-copy\n",
            "  chunk['DateTime'] = pd.to_datetime(chunk['DateTime'])\n",
            "<ipython-input-86-f274ec321bc2>:8: SettingWithCopyWarning: \n",
            "A value is trying to be set on a copy of a slice from a DataFrame.\n",
            "Try using .loc[row_indexer,col_indexer] = value instead\n",
            "\n",
            "See the caveats in the documentation: https://pandas.pydata.org/pandas-docs/stable/user_guide/indexing.html#returning-a-view-versus-a-copy\n",
            "  chunk['Vehicles'] = scaler.fit_transform(chunk[['Vehicles']])  # Assuming 'Vehicle_Count' is the correct column name\n",
            "<ipython-input-86-f274ec321bc2>:4: SettingWithCopyWarning: \n",
            "A value is trying to be set on a copy of a slice from a DataFrame.\n",
            "Try using .loc[row_indexer,col_indexer] = value instead\n",
            "\n",
            "See the caveats in the documentation: https://pandas.pydata.org/pandas-docs/stable/user_guide/indexing.html#returning-a-view-versus-a-copy\n",
            "  chunk['DateTime'] = pd.to_datetime(chunk['DateTime'])\n",
            "<ipython-input-86-f274ec321bc2>:8: SettingWithCopyWarning: \n",
            "A value is trying to be set on a copy of a slice from a DataFrame.\n",
            "Try using .loc[row_indexer,col_indexer] = value instead\n",
            "\n",
            "See the caveats in the documentation: https://pandas.pydata.org/pandas-docs/stable/user_guide/indexing.html#returning-a-view-versus-a-copy\n",
            "  chunk['Vehicles'] = scaler.fit_transform(chunk[['Vehicles']])  # Assuming 'Vehicle_Count' is the correct column name\n",
            "<ipython-input-86-f274ec321bc2>:4: SettingWithCopyWarning: \n",
            "A value is trying to be set on a copy of a slice from a DataFrame.\n",
            "Try using .loc[row_indexer,col_indexer] = value instead\n",
            "\n",
            "See the caveats in the documentation: https://pandas.pydata.org/pandas-docs/stable/user_guide/indexing.html#returning-a-view-versus-a-copy\n",
            "  chunk['DateTime'] = pd.to_datetime(chunk['DateTime'])\n",
            "<ipython-input-86-f274ec321bc2>:8: SettingWithCopyWarning: \n",
            "A value is trying to be set on a copy of a slice from a DataFrame.\n",
            "Try using .loc[row_indexer,col_indexer] = value instead\n",
            "\n",
            "See the caveats in the documentation: https://pandas.pydata.org/pandas-docs/stable/user_guide/indexing.html#returning-a-view-versus-a-copy\n",
            "  chunk['Vehicles'] = scaler.fit_transform(chunk[['Vehicles']])  # Assuming 'Vehicle_Count' is the correct column name\n",
            "<ipython-input-86-f274ec321bc2>:4: SettingWithCopyWarning: \n",
            "A value is trying to be set on a copy of a slice from a DataFrame.\n",
            "Try using .loc[row_indexer,col_indexer] = value instead\n",
            "\n",
            "See the caveats in the documentation: https://pandas.pydata.org/pandas-docs/stable/user_guide/indexing.html#returning-a-view-versus-a-copy\n",
            "  chunk['DateTime'] = pd.to_datetime(chunk['DateTime'])\n",
            "<ipython-input-86-f274ec321bc2>:8: SettingWithCopyWarning: \n",
            "A value is trying to be set on a copy of a slice from a DataFrame.\n",
            "Try using .loc[row_indexer,col_indexer] = value instead\n",
            "\n",
            "See the caveats in the documentation: https://pandas.pydata.org/pandas-docs/stable/user_guide/indexing.html#returning-a-view-versus-a-copy\n",
            "  chunk['Vehicles'] = scaler.fit_transform(chunk[['Vehicles']])  # Assuming 'Vehicle_Count' is the correct column name\n",
            "<ipython-input-86-f274ec321bc2>:4: SettingWithCopyWarning: \n",
            "A value is trying to be set on a copy of a slice from a DataFrame.\n",
            "Try using .loc[row_indexer,col_indexer] = value instead\n",
            "\n",
            "See the caveats in the documentation: https://pandas.pydata.org/pandas-docs/stable/user_guide/indexing.html#returning-a-view-versus-a-copy\n",
            "  chunk['DateTime'] = pd.to_datetime(chunk['DateTime'])\n",
            "<ipython-input-86-f274ec321bc2>:8: SettingWithCopyWarning: \n",
            "A value is trying to be set on a copy of a slice from a DataFrame.\n",
            "Try using .loc[row_indexer,col_indexer] = value instead\n",
            "\n",
            "See the caveats in the documentation: https://pandas.pydata.org/pandas-docs/stable/user_guide/indexing.html#returning-a-view-versus-a-copy\n",
            "  chunk['Vehicles'] = scaler.fit_transform(chunk[['Vehicles']])  # Assuming 'Vehicle_Count' is the correct column name\n",
            "<ipython-input-86-f274ec321bc2>:4: SettingWithCopyWarning: \n",
            "A value is trying to be set on a copy of a slice from a DataFrame.\n",
            "Try using .loc[row_indexer,col_indexer] = value instead\n",
            "\n",
            "See the caveats in the documentation: https://pandas.pydata.org/pandas-docs/stable/user_guide/indexing.html#returning-a-view-versus-a-copy\n",
            "  chunk['DateTime'] = pd.to_datetime(chunk['DateTime'])\n",
            "<ipython-input-86-f274ec321bc2>:8: SettingWithCopyWarning: \n",
            "A value is trying to be set on a copy of a slice from a DataFrame.\n",
            "Try using .loc[row_indexer,col_indexer] = value instead\n",
            "\n",
            "See the caveats in the documentation: https://pandas.pydata.org/pandas-docs/stable/user_guide/indexing.html#returning-a-view-versus-a-copy\n",
            "  chunk['Vehicles'] = scaler.fit_transform(chunk[['Vehicles']])  # Assuming 'Vehicle_Count' is the correct column name\n",
            "<ipython-input-86-f274ec321bc2>:4: SettingWithCopyWarning: \n",
            "A value is trying to be set on a copy of a slice from a DataFrame.\n",
            "Try using .loc[row_indexer,col_indexer] = value instead\n",
            "\n",
            "See the caveats in the documentation: https://pandas.pydata.org/pandas-docs/stable/user_guide/indexing.html#returning-a-view-versus-a-copy\n",
            "  chunk['DateTime'] = pd.to_datetime(chunk['DateTime'])\n",
            "<ipython-input-86-f274ec321bc2>:8: SettingWithCopyWarning: \n",
            "A value is trying to be set on a copy of a slice from a DataFrame.\n",
            "Try using .loc[row_indexer,col_indexer] = value instead\n",
            "\n",
            "See the caveats in the documentation: https://pandas.pydata.org/pandas-docs/stable/user_guide/indexing.html#returning-a-view-versus-a-copy\n",
            "  chunk['Vehicles'] = scaler.fit_transform(chunk[['Vehicles']])  # Assuming 'Vehicle_Count' is the correct column name\n",
            "<ipython-input-86-f274ec321bc2>:4: SettingWithCopyWarning: \n",
            "A value is trying to be set on a copy of a slice from a DataFrame.\n",
            "Try using .loc[row_indexer,col_indexer] = value instead\n",
            "\n",
            "See the caveats in the documentation: https://pandas.pydata.org/pandas-docs/stable/user_guide/indexing.html#returning-a-view-versus-a-copy\n",
            "  chunk['DateTime'] = pd.to_datetime(chunk['DateTime'])\n",
            "<ipython-input-86-f274ec321bc2>:8: SettingWithCopyWarning: \n",
            "A value is trying to be set on a copy of a slice from a DataFrame.\n",
            "Try using .loc[row_indexer,col_indexer] = value instead\n",
            "\n",
            "See the caveats in the documentation: https://pandas.pydata.org/pandas-docs/stable/user_guide/indexing.html#returning-a-view-versus-a-copy\n",
            "  chunk['Vehicles'] = scaler.fit_transform(chunk[['Vehicles']])  # Assuming 'Vehicle_Count' is the correct column name\n",
            "<ipython-input-86-f274ec321bc2>:4: SettingWithCopyWarning: \n",
            "A value is trying to be set on a copy of a slice from a DataFrame.\n",
            "Try using .loc[row_indexer,col_indexer] = value instead\n",
            "\n",
            "See the caveats in the documentation: https://pandas.pydata.org/pandas-docs/stable/user_guide/indexing.html#returning-a-view-versus-a-copy\n",
            "  chunk['DateTime'] = pd.to_datetime(chunk['DateTime'])\n",
            "<ipython-input-86-f274ec321bc2>:8: SettingWithCopyWarning: \n",
            "A value is trying to be set on a copy of a slice from a DataFrame.\n",
            "Try using .loc[row_indexer,col_indexer] = value instead\n",
            "\n",
            "See the caveats in the documentation: https://pandas.pydata.org/pandas-docs/stable/user_guide/indexing.html#returning-a-view-versus-a-copy\n",
            "  chunk['Vehicles'] = scaler.fit_transform(chunk[['Vehicles']])  # Assuming 'Vehicle_Count' is the correct column name\n",
            "<ipython-input-86-f274ec321bc2>:4: SettingWithCopyWarning: \n",
            "A value is trying to be set on a copy of a slice from a DataFrame.\n",
            "Try using .loc[row_indexer,col_indexer] = value instead\n",
            "\n",
            "See the caveats in the documentation: https://pandas.pydata.org/pandas-docs/stable/user_guide/indexing.html#returning-a-view-versus-a-copy\n",
            "  chunk['DateTime'] = pd.to_datetime(chunk['DateTime'])\n",
            "<ipython-input-86-f274ec321bc2>:8: SettingWithCopyWarning: \n",
            "A value is trying to be set on a copy of a slice from a DataFrame.\n",
            "Try using .loc[row_indexer,col_indexer] = value instead\n",
            "\n",
            "See the caveats in the documentation: https://pandas.pydata.org/pandas-docs/stable/user_guide/indexing.html#returning-a-view-versus-a-copy\n",
            "  chunk['Vehicles'] = scaler.fit_transform(chunk[['Vehicles']])  # Assuming 'Vehicle_Count' is the correct column name\n",
            "<ipython-input-86-f274ec321bc2>:4: SettingWithCopyWarning: \n",
            "A value is trying to be set on a copy of a slice from a DataFrame.\n",
            "Try using .loc[row_indexer,col_indexer] = value instead\n",
            "\n",
            "See the caveats in the documentation: https://pandas.pydata.org/pandas-docs/stable/user_guide/indexing.html#returning-a-view-versus-a-copy\n",
            "  chunk['DateTime'] = pd.to_datetime(chunk['DateTime'])\n",
            "<ipython-input-86-f274ec321bc2>:8: SettingWithCopyWarning: \n",
            "A value is trying to be set on a copy of a slice from a DataFrame.\n",
            "Try using .loc[row_indexer,col_indexer] = value instead\n",
            "\n",
            "See the caveats in the documentation: https://pandas.pydata.org/pandas-docs/stable/user_guide/indexing.html#returning-a-view-versus-a-copy\n",
            "  chunk['Vehicles'] = scaler.fit_transform(chunk[['Vehicles']])  # Assuming 'Vehicle_Count' is the correct column name\n",
            "<ipython-input-86-f274ec321bc2>:4: SettingWithCopyWarning: \n",
            "A value is trying to be set on a copy of a slice from a DataFrame.\n",
            "Try using .loc[row_indexer,col_indexer] = value instead\n",
            "\n",
            "See the caveats in the documentation: https://pandas.pydata.org/pandas-docs/stable/user_guide/indexing.html#returning-a-view-versus-a-copy\n",
            "  chunk['DateTime'] = pd.to_datetime(chunk['DateTime'])\n",
            "<ipython-input-86-f274ec321bc2>:8: SettingWithCopyWarning: \n",
            "A value is trying to be set on a copy of a slice from a DataFrame.\n",
            "Try using .loc[row_indexer,col_indexer] = value instead\n",
            "\n",
            "See the caveats in the documentation: https://pandas.pydata.org/pandas-docs/stable/user_guide/indexing.html#returning-a-view-versus-a-copy\n",
            "  chunk['Vehicles'] = scaler.fit_transform(chunk[['Vehicles']])  # Assuming 'Vehicle_Count' is the correct column name\n",
            "<ipython-input-86-f274ec321bc2>:4: SettingWithCopyWarning: \n",
            "A value is trying to be set on a copy of a slice from a DataFrame.\n",
            "Try using .loc[row_indexer,col_indexer] = value instead\n",
            "\n",
            "See the caveats in the documentation: https://pandas.pydata.org/pandas-docs/stable/user_guide/indexing.html#returning-a-view-versus-a-copy\n",
            "  chunk['DateTime'] = pd.to_datetime(chunk['DateTime'])\n",
            "<ipython-input-86-f274ec321bc2>:8: SettingWithCopyWarning: \n",
            "A value is trying to be set on a copy of a slice from a DataFrame.\n",
            "Try using .loc[row_indexer,col_indexer] = value instead\n",
            "\n",
            "See the caveats in the documentation: https://pandas.pydata.org/pandas-docs/stable/user_guide/indexing.html#returning-a-view-versus-a-copy\n",
            "  chunk['Vehicles'] = scaler.fit_transform(chunk[['Vehicles']])  # Assuming 'Vehicle_Count' is the correct column name\n",
            "<ipython-input-86-f274ec321bc2>:4: SettingWithCopyWarning: \n",
            "A value is trying to be set on a copy of a slice from a DataFrame.\n",
            "Try using .loc[row_indexer,col_indexer] = value instead\n",
            "\n",
            "See the caveats in the documentation: https://pandas.pydata.org/pandas-docs/stable/user_guide/indexing.html#returning-a-view-versus-a-copy\n",
            "  chunk['DateTime'] = pd.to_datetime(chunk['DateTime'])\n",
            "<ipython-input-86-f274ec321bc2>:8: SettingWithCopyWarning: \n",
            "A value is trying to be set on a copy of a slice from a DataFrame.\n",
            "Try using .loc[row_indexer,col_indexer] = value instead\n",
            "\n",
            "See the caveats in the documentation: https://pandas.pydata.org/pandas-docs/stable/user_guide/indexing.html#returning-a-view-versus-a-copy\n",
            "  chunk['Vehicles'] = scaler.fit_transform(chunk[['Vehicles']])  # Assuming 'Vehicle_Count' is the correct column name\n",
            "<ipython-input-86-f274ec321bc2>:4: SettingWithCopyWarning: \n",
            "A value is trying to be set on a copy of a slice from a DataFrame.\n",
            "Try using .loc[row_indexer,col_indexer] = value instead\n",
            "\n",
            "See the caveats in the documentation: https://pandas.pydata.org/pandas-docs/stable/user_guide/indexing.html#returning-a-view-versus-a-copy\n",
            "  chunk['DateTime'] = pd.to_datetime(chunk['DateTime'])\n",
            "<ipython-input-86-f274ec321bc2>:8: SettingWithCopyWarning: \n",
            "A value is trying to be set on a copy of a slice from a DataFrame.\n",
            "Try using .loc[row_indexer,col_indexer] = value instead\n",
            "\n",
            "See the caveats in the documentation: https://pandas.pydata.org/pandas-docs/stable/user_guide/indexing.html#returning-a-view-versus-a-copy\n",
            "  chunk['Vehicles'] = scaler.fit_transform(chunk[['Vehicles']])  # Assuming 'Vehicle_Count' is the correct column name\n",
            "<ipython-input-86-f274ec321bc2>:4: SettingWithCopyWarning: \n",
            "A value is trying to be set on a copy of a slice from a DataFrame.\n",
            "Try using .loc[row_indexer,col_indexer] = value instead\n",
            "\n",
            "See the caveats in the documentation: https://pandas.pydata.org/pandas-docs/stable/user_guide/indexing.html#returning-a-view-versus-a-copy\n",
            "  chunk['DateTime'] = pd.to_datetime(chunk['DateTime'])\n",
            "<ipython-input-86-f274ec321bc2>:8: SettingWithCopyWarning: \n",
            "A value is trying to be set on a copy of a slice from a DataFrame.\n",
            "Try using .loc[row_indexer,col_indexer] = value instead\n",
            "\n",
            "See the caveats in the documentation: https://pandas.pydata.org/pandas-docs/stable/user_guide/indexing.html#returning-a-view-versus-a-copy\n",
            "  chunk['Vehicles'] = scaler.fit_transform(chunk[['Vehicles']])  # Assuming 'Vehicle_Count' is the correct column name\n",
            "<ipython-input-86-f274ec321bc2>:4: SettingWithCopyWarning: \n",
            "A value is trying to be set on a copy of a slice from a DataFrame.\n",
            "Try using .loc[row_indexer,col_indexer] = value instead\n",
            "\n",
            "See the caveats in the documentation: https://pandas.pydata.org/pandas-docs/stable/user_guide/indexing.html#returning-a-view-versus-a-copy\n",
            "  chunk['DateTime'] = pd.to_datetime(chunk['DateTime'])\n",
            "<ipython-input-86-f274ec321bc2>:8: SettingWithCopyWarning: \n",
            "A value is trying to be set on a copy of a slice from a DataFrame.\n",
            "Try using .loc[row_indexer,col_indexer] = value instead\n",
            "\n",
            "See the caveats in the documentation: https://pandas.pydata.org/pandas-docs/stable/user_guide/indexing.html#returning-a-view-versus-a-copy\n",
            "  chunk['Vehicles'] = scaler.fit_transform(chunk[['Vehicles']])  # Assuming 'Vehicle_Count' is the correct column name\n",
            "<ipython-input-86-f274ec321bc2>:4: SettingWithCopyWarning: \n",
            "A value is trying to be set on a copy of a slice from a DataFrame.\n",
            "Try using .loc[row_indexer,col_indexer] = value instead\n",
            "\n",
            "See the caveats in the documentation: https://pandas.pydata.org/pandas-docs/stable/user_guide/indexing.html#returning-a-view-versus-a-copy\n",
            "  chunk['DateTime'] = pd.to_datetime(chunk['DateTime'])\n",
            "<ipython-input-86-f274ec321bc2>:8: SettingWithCopyWarning: \n",
            "A value is trying to be set on a copy of a slice from a DataFrame.\n",
            "Try using .loc[row_indexer,col_indexer] = value instead\n",
            "\n",
            "See the caveats in the documentation: https://pandas.pydata.org/pandas-docs/stable/user_guide/indexing.html#returning-a-view-versus-a-copy\n",
            "  chunk['Vehicles'] = scaler.fit_transform(chunk[['Vehicles']])  # Assuming 'Vehicle_Count' is the correct column name\n",
            "<ipython-input-86-f274ec321bc2>:4: SettingWithCopyWarning: \n",
            "A value is trying to be set on a copy of a slice from a DataFrame.\n",
            "Try using .loc[row_indexer,col_indexer] = value instead\n",
            "\n",
            "See the caveats in the documentation: https://pandas.pydata.org/pandas-docs/stable/user_guide/indexing.html#returning-a-view-versus-a-copy\n",
            "  chunk['DateTime'] = pd.to_datetime(chunk['DateTime'])\n",
            "<ipython-input-86-f274ec321bc2>:8: SettingWithCopyWarning: \n",
            "A value is trying to be set on a copy of a slice from a DataFrame.\n",
            "Try using .loc[row_indexer,col_indexer] = value instead\n",
            "\n",
            "See the caveats in the documentation: https://pandas.pydata.org/pandas-docs/stable/user_guide/indexing.html#returning-a-view-versus-a-copy\n",
            "  chunk['Vehicles'] = scaler.fit_transform(chunk[['Vehicles']])  # Assuming 'Vehicle_Count' is the correct column name\n",
            "<ipython-input-86-f274ec321bc2>:4: SettingWithCopyWarning: \n",
            "A value is trying to be set on a copy of a slice from a DataFrame.\n",
            "Try using .loc[row_indexer,col_indexer] = value instead\n",
            "\n",
            "See the caveats in the documentation: https://pandas.pydata.org/pandas-docs/stable/user_guide/indexing.html#returning-a-view-versus-a-copy\n",
            "  chunk['DateTime'] = pd.to_datetime(chunk['DateTime'])\n",
            "<ipython-input-86-f274ec321bc2>:8: SettingWithCopyWarning: \n",
            "A value is trying to be set on a copy of a slice from a DataFrame.\n",
            "Try using .loc[row_indexer,col_indexer] = value instead\n",
            "\n",
            "See the caveats in the documentation: https://pandas.pydata.org/pandas-docs/stable/user_guide/indexing.html#returning-a-view-versus-a-copy\n",
            "  chunk['Vehicles'] = scaler.fit_transform(chunk[['Vehicles']])  # Assuming 'Vehicle_Count' is the correct column name\n",
            "<ipython-input-86-f274ec321bc2>:4: SettingWithCopyWarning: \n",
            "A value is trying to be set on a copy of a slice from a DataFrame.\n",
            "Try using .loc[row_indexer,col_indexer] = value instead\n",
            "\n",
            "See the caveats in the documentation: https://pandas.pydata.org/pandas-docs/stable/user_guide/indexing.html#returning-a-view-versus-a-copy\n",
            "  chunk['DateTime'] = pd.to_datetime(chunk['DateTime'])\n",
            "<ipython-input-86-f274ec321bc2>:8: SettingWithCopyWarning: \n",
            "A value is trying to be set on a copy of a slice from a DataFrame.\n",
            "Try using .loc[row_indexer,col_indexer] = value instead\n",
            "\n",
            "See the caveats in the documentation: https://pandas.pydata.org/pandas-docs/stable/user_guide/indexing.html#returning-a-view-versus-a-copy\n",
            "  chunk['Vehicles'] = scaler.fit_transform(chunk[['Vehicles']])  # Assuming 'Vehicle_Count' is the correct column name\n",
            "<ipython-input-86-f274ec321bc2>:4: SettingWithCopyWarning: \n",
            "A value is trying to be set on a copy of a slice from a DataFrame.\n",
            "Try using .loc[row_indexer,col_indexer] = value instead\n",
            "\n",
            "See the caveats in the documentation: https://pandas.pydata.org/pandas-docs/stable/user_guide/indexing.html#returning-a-view-versus-a-copy\n",
            "  chunk['DateTime'] = pd.to_datetime(chunk['DateTime'])\n",
            "<ipython-input-86-f274ec321bc2>:8: SettingWithCopyWarning: \n",
            "A value is trying to be set on a copy of a slice from a DataFrame.\n",
            "Try using .loc[row_indexer,col_indexer] = value instead\n",
            "\n",
            "See the caveats in the documentation: https://pandas.pydata.org/pandas-docs/stable/user_guide/indexing.html#returning-a-view-versus-a-copy\n",
            "  chunk['Vehicles'] = scaler.fit_transform(chunk[['Vehicles']])  # Assuming 'Vehicle_Count' is the correct column name\n",
            "<ipython-input-86-f274ec321bc2>:4: SettingWithCopyWarning: \n",
            "A value is trying to be set on a copy of a slice from a DataFrame.\n",
            "Try using .loc[row_indexer,col_indexer] = value instead\n",
            "\n",
            "See the caveats in the documentation: https://pandas.pydata.org/pandas-docs/stable/user_guide/indexing.html#returning-a-view-versus-a-copy\n",
            "  chunk['DateTime'] = pd.to_datetime(chunk['DateTime'])\n",
            "<ipython-input-86-f274ec321bc2>:8: SettingWithCopyWarning: \n",
            "A value is trying to be set on a copy of a slice from a DataFrame.\n",
            "Try using .loc[row_indexer,col_indexer] = value instead\n",
            "\n",
            "See the caveats in the documentation: https://pandas.pydata.org/pandas-docs/stable/user_guide/indexing.html#returning-a-view-versus-a-copy\n",
            "  chunk['Vehicles'] = scaler.fit_transform(chunk[['Vehicles']])  # Assuming 'Vehicle_Count' is the correct column name\n",
            "<ipython-input-86-f274ec321bc2>:4: SettingWithCopyWarning: \n",
            "A value is trying to be set on a copy of a slice from a DataFrame.\n",
            "Try using .loc[row_indexer,col_indexer] = value instead\n",
            "\n",
            "See the caveats in the documentation: https://pandas.pydata.org/pandas-docs/stable/user_guide/indexing.html#returning-a-view-versus-a-copy\n",
            "  chunk['DateTime'] = pd.to_datetime(chunk['DateTime'])\n",
            "<ipython-input-86-f274ec321bc2>:8: SettingWithCopyWarning: \n",
            "A value is trying to be set on a copy of a slice from a DataFrame.\n",
            "Try using .loc[row_indexer,col_indexer] = value instead\n",
            "\n",
            "See the caveats in the documentation: https://pandas.pydata.org/pandas-docs/stable/user_guide/indexing.html#returning-a-view-versus-a-copy\n",
            "  chunk['Vehicles'] = scaler.fit_transform(chunk[['Vehicles']])  # Assuming 'Vehicle_Count' is the correct column name\n",
            "<ipython-input-86-f274ec321bc2>:4: SettingWithCopyWarning: \n",
            "A value is trying to be set on a copy of a slice from a DataFrame.\n",
            "Try using .loc[row_indexer,col_indexer] = value instead\n",
            "\n",
            "See the caveats in the documentation: https://pandas.pydata.org/pandas-docs/stable/user_guide/indexing.html#returning-a-view-versus-a-copy\n",
            "  chunk['DateTime'] = pd.to_datetime(chunk['DateTime'])\n",
            "<ipython-input-86-f274ec321bc2>:8: SettingWithCopyWarning: \n",
            "A value is trying to be set on a copy of a slice from a DataFrame.\n",
            "Try using .loc[row_indexer,col_indexer] = value instead\n",
            "\n",
            "See the caveats in the documentation: https://pandas.pydata.org/pandas-docs/stable/user_guide/indexing.html#returning-a-view-versus-a-copy\n",
            "  chunk['Vehicles'] = scaler.fit_transform(chunk[['Vehicles']])  # Assuming 'Vehicle_Count' is the correct column name\n",
            "<ipython-input-86-f274ec321bc2>:4: SettingWithCopyWarning: \n",
            "A value is trying to be set on a copy of a slice from a DataFrame.\n",
            "Try using .loc[row_indexer,col_indexer] = value instead\n",
            "\n",
            "See the caveats in the documentation: https://pandas.pydata.org/pandas-docs/stable/user_guide/indexing.html#returning-a-view-versus-a-copy\n",
            "  chunk['DateTime'] = pd.to_datetime(chunk['DateTime'])\n",
            "<ipython-input-86-f274ec321bc2>:8: SettingWithCopyWarning: \n",
            "A value is trying to be set on a copy of a slice from a DataFrame.\n",
            "Try using .loc[row_indexer,col_indexer] = value instead\n",
            "\n",
            "See the caveats in the documentation: https://pandas.pydata.org/pandas-docs/stable/user_guide/indexing.html#returning-a-view-versus-a-copy\n",
            "  chunk['Vehicles'] = scaler.fit_transform(chunk[['Vehicles']])  # Assuming 'Vehicle_Count' is the correct column name\n",
            "<ipython-input-86-f274ec321bc2>:4: SettingWithCopyWarning: \n",
            "A value is trying to be set on a copy of a slice from a DataFrame.\n",
            "Try using .loc[row_indexer,col_indexer] = value instead\n",
            "\n",
            "See the caveats in the documentation: https://pandas.pydata.org/pandas-docs/stable/user_guide/indexing.html#returning-a-view-versus-a-copy\n",
            "  chunk['DateTime'] = pd.to_datetime(chunk['DateTime'])\n",
            "<ipython-input-86-f274ec321bc2>:8: SettingWithCopyWarning: \n",
            "A value is trying to be set on a copy of a slice from a DataFrame.\n",
            "Try using .loc[row_indexer,col_indexer] = value instead\n",
            "\n",
            "See the caveats in the documentation: https://pandas.pydata.org/pandas-docs/stable/user_guide/indexing.html#returning-a-view-versus-a-copy\n",
            "  chunk['Vehicles'] = scaler.fit_transform(chunk[['Vehicles']])  # Assuming 'Vehicle_Count' is the correct column name\n",
            "<ipython-input-86-f274ec321bc2>:4: SettingWithCopyWarning: \n",
            "A value is trying to be set on a copy of a slice from a DataFrame.\n",
            "Try using .loc[row_indexer,col_indexer] = value instead\n",
            "\n",
            "See the caveats in the documentation: https://pandas.pydata.org/pandas-docs/stable/user_guide/indexing.html#returning-a-view-versus-a-copy\n",
            "  chunk['DateTime'] = pd.to_datetime(chunk['DateTime'])\n",
            "<ipython-input-86-f274ec321bc2>:8: SettingWithCopyWarning: \n",
            "A value is trying to be set on a copy of a slice from a DataFrame.\n",
            "Try using .loc[row_indexer,col_indexer] = value instead\n",
            "\n",
            "See the caveats in the documentation: https://pandas.pydata.org/pandas-docs/stable/user_guide/indexing.html#returning-a-view-versus-a-copy\n",
            "  chunk['Vehicles'] = scaler.fit_transform(chunk[['Vehicles']])  # Assuming 'Vehicle_Count' is the correct column name\n",
            "<ipython-input-86-f274ec321bc2>:4: SettingWithCopyWarning: \n",
            "A value is trying to be set on a copy of a slice from a DataFrame.\n",
            "Try using .loc[row_indexer,col_indexer] = value instead\n",
            "\n",
            "See the caveats in the documentation: https://pandas.pydata.org/pandas-docs/stable/user_guide/indexing.html#returning-a-view-versus-a-copy\n",
            "  chunk['DateTime'] = pd.to_datetime(chunk['DateTime'])\n",
            "<ipython-input-86-f274ec321bc2>:8: SettingWithCopyWarning: \n",
            "A value is trying to be set on a copy of a slice from a DataFrame.\n",
            "Try using .loc[row_indexer,col_indexer] = value instead\n",
            "\n",
            "See the caveats in the documentation: https://pandas.pydata.org/pandas-docs/stable/user_guide/indexing.html#returning-a-view-versus-a-copy\n",
            "  chunk['Vehicles'] = scaler.fit_transform(chunk[['Vehicles']])  # Assuming 'Vehicle_Count' is the correct column name\n",
            "<ipython-input-86-f274ec321bc2>:4: SettingWithCopyWarning: \n",
            "A value is trying to be set on a copy of a slice from a DataFrame.\n",
            "Try using .loc[row_indexer,col_indexer] = value instead\n",
            "\n",
            "See the caveats in the documentation: https://pandas.pydata.org/pandas-docs/stable/user_guide/indexing.html#returning-a-view-versus-a-copy\n",
            "  chunk['DateTime'] = pd.to_datetime(chunk['DateTime'])\n",
            "<ipython-input-86-f274ec321bc2>:8: SettingWithCopyWarning: \n",
            "A value is trying to be set on a copy of a slice from a DataFrame.\n",
            "Try using .loc[row_indexer,col_indexer] = value instead\n",
            "\n",
            "See the caveats in the documentation: https://pandas.pydata.org/pandas-docs/stable/user_guide/indexing.html#returning-a-view-versus-a-copy\n",
            "  chunk['Vehicles'] = scaler.fit_transform(chunk[['Vehicles']])  # Assuming 'Vehicle_Count' is the correct column name\n"
          ]
        }
      ]
    },
    {
      "cell_type": "code",
      "source": [
        "graphs = [create_graph_structure(pd.read_csv(chunk_file)) for chunk_file in chunk_files]"
      ],
      "metadata": {
        "id": "NlEojsU96AyA"
      },
      "execution_count": null,
      "outputs": []
    },
    {
      "cell_type": "markdown",
      "source": [
        "#### combined graph and edge index"
      ],
      "metadata": {
        "id": "x5uIbW-nokDp"
      }
    },
    {
      "cell_type": "code",
      "source": [
        "combined_graph = Batch.from_data_list(graphs)\n",
        "print(combined_graph)"
      ],
      "metadata": {
        "colab": {
          "base_uri": "https://localhost:8080/"
        },
        "id": "CY_lbgfS7l88",
        "outputId": "212aed1a-19e1-4ae8-a7e3-055299b376a7"
      },
      "execution_count": null,
      "outputs": [
        {
          "output_type": "stream",
          "name": "stdout",
          "text": [
            "DataBatch(x=[40, 1], edge_index=[2, 481200], y=[481200], batch=[40], ptr=[11])\n"
          ]
        }
      ]
    },
    {
      "cell_type": "code",
      "source": [
        "print(combined_graph.edge_index)"
      ],
      "metadata": {
        "colab": {
          "base_uri": "https://localhost:8080/"
        },
        "id": "-CiWx9UR7pTk",
        "outputId": "05e64ebb-0bf2-4e77-b19f-1479471432be"
      },
      "execution_count": null,
      "outputs": [
        {
          "output_type": "stream",
          "name": "stdout",
          "text": [
            "tensor([[ 1,  1,  1,  ..., 40, 40, 40],\n",
            "        [ 1,  1,  1,  ..., 40, 40, 37]])\n"
          ]
        }
      ]
    },
    {
      "source": [
        "# Assuming `connections_df` is properly created and contains valid junction pairs\n",
        "connections_df = pd.DataFrame({\n",
        "    'Junction': chunk['Junction'],\n",
        "    'ConnectedJunction': chunk['Junction'].shift(-1, fill_value=chunk['Junction'].iloc[0])\n",
        "})\n",
        "\n",
        "# Ensure unique junction names and create a mapping\n",
        "unique_junctions = chunk['Junction'].unique()\n",
        "junction_to_index = {junction: i for i, junction in enumerate(unique_junctions)}\n",
        "\n",
        "# Update connections_df to use valid indices\n",
        "connections_df['JunctionIndex'] = connections_df['Junction'].map(junction_to_index)\n",
        "connections_df['ConnectedIndex'] = connections_df['ConnectedJunction'].map(junction_to_index)\n",
        "\n",
        "# Create edge_index\n",
        "edge_index = torch.tensor(connections_df[['JunctionIndex', 'ConnectedIndex']].values.T, dtype=torch.long)\n"
      ],
      "cell_type": "code",
      "metadata": {
        "id": "xkIxK6vE77x0"
      },
      "execution_count": null,
      "outputs": []
    },
    {
      "cell_type": "code",
      "source": [
        "print(f\"Number of nodes: {combined_graph.x.shape[0]}\")\n",
        "print(f\"Edge index shape: {combined_graph.edge_index.shape}\")"
      ],
      "metadata": {
        "colab": {
          "base_uri": "https://localhost:8080/"
        },
        "id": "z_0rkcXc7ulv",
        "outputId": "652cc6ba-df95-46d0-dcc5-fdf52a3d67c6"
      },
      "execution_count": null,
      "outputs": [
        {
          "output_type": "stream",
          "name": "stdout",
          "text": [
            "Number of nodes: 40\n",
            "Edge index shape: torch.Size([2, 481200])\n"
          ]
        }
      ]
    },
    {
      "cell_type": "code",
      "source": [
        "def create_graph_structure(chunk):\n",
        "    # Ensure DateTime is in datetime format\n",
        "    chunk['DateTime'] = pd.to_datetime(chunk['DateTime'], errors='coerce')\n",
        "\n",
        "    # Ensure 'Vehicles' column is numeric\n",
        "    chunk['Vehicles'] = pd.to_numeric(chunk['Vehicles'], errors='coerce')\n",
        "\n",
        "    # Drop rows where 'Vehicles' or 'DateTime' is NaN\n",
        "    chunk.dropna(subset=['Vehicles', 'DateTime'], inplace=True)\n",
        "\n",
        "    # Normalize vehicle counts within the chunk\n",
        "    scaler = StandardScaler()\n",
        "    chunk['Vehicles'] = scaler.fit_transform(chunk[['Vehicles']])\n",
        "\n",
        "    # Create a feature matrix (vehicle counts at junctions)\n",
        "    junction_features = torch.tensor(chunk.groupby('Junction').mean()['Vehicles'].values, dtype=torch.float).unsqueeze(1)\n",
        "\n",
        "    # Define edges based on connectivity logic\n",
        "    unique_junctions = chunk['Junction'].unique()\n",
        "    junction_to_index = {junction: i for i, junction in enumerate(unique_junctions)}\n",
        "\n",
        "    connections_df = pd.DataFrame({\n",
        "        'Junction': chunk['Junction'].map(junction_to_index),\n",
        "        'ConnectedJunction': chunk['Junction'].shift(-1, fill_value=chunk['Junction'].iloc[0]).map(junction_to_index)\n",
        "    })\n",
        "\n",
        "    edge_index = torch.tensor(connections_df.values.T, dtype=torch.long)\n",
        "\n",
        "    # Ensure edge indices are within bounds\n",
        "    edge_index = edge_index[:, edge_index[1] < len(unique_junctions)]\n",
        "\n",
        "    # Prepare the target to match the number of nodes\n",
        "    targets = torch.tensor(chunk.groupby('Junction').mean()['Vehicles'].values, dtype=torch.float).unsqueeze(1)\n",
        "\n",
        "    return Data(x=junction_features, edge_index=edge_index, y=targets)\n"
      ],
      "metadata": {
        "id": "AZAm3TeV9FnT"
      },
      "execution_count": null,
      "outputs": []
    },
    {
      "cell_type": "code",
      "source": [
        "# Process each chunk and create graph structures\n",
        "graphs = [create_graph_structure(pd.read_csv(chunk_file)) for chunk_file in chunk_files]\n",
        "\n",
        "# Combine graphs into a single Batch (if needed)\n",
        "combined_graph = Batch.from_data_list(graphs)\n",
        "print(f\"Number of nodes: {combined_graph.x.shape[0]}\")\n",
        "print(f\"Edge index shape: {combined_graph.edge_index.shape}\")\n",
        "print(f\"Target shape: {combined_graph.y.shape}\")\n"
      ],
      "metadata": {
        "colab": {
          "base_uri": "https://localhost:8080/"
        },
        "id": "dF3GXnhK967S",
        "outputId": "caffb93a-aa4d-4883-d163-0dd976acc690"
      },
      "execution_count": null,
      "outputs": [
        {
          "output_type": "stream",
          "name": "stdout",
          "text": [
            "Number of nodes: 40\n",
            "Edge index shape: torch.Size([2, 481200])\n",
            "Target shape: torch.Size([40, 1])\n"
          ]
        }
      ]
    },
    {
      "cell_type": "code",
      "source": [
        "print(\"Max edge index:\", edge_index.max().item())"
      ],
      "metadata": {
        "colab": {
          "base_uri": "https://localhost:8080/"
        },
        "id": "fnL4HZiJ-f8J",
        "outputId": "cc746a13-544b-4090-afb0-474cd8154d1e"
      },
      "execution_count": null,
      "outputs": [
        {
          "output_type": "stream",
          "name": "stdout",
          "text": [
            "Max edge index: 0\n"
          ]
        }
      ]
    },
    {
      "cell_type": "markdown",
      "source": [
        "## Step-3:BUILD AND TRAIN MODEL"
      ],
      "metadata": {
        "id": "Hc1jdaM1_Xqm"
      }
    },
    {
      "cell_type": "code",
      "source": [
        "def create_graph_structure(chunk):\n",
        "    # Ensure DateTime is in datetime format\n",
        "    chunk['DateTime'] = pd.to_datetime(chunk['DateTime'], errors='coerce')\n",
        "\n",
        "    # Ensure 'Vehicles' column is numeric\n",
        "    chunk['Vehicles'] = pd.to_numeric(chunk['Vehicles'], errors='coerce')\n",
        "\n",
        "    # Drop rows where 'Vehicles' or 'DateTime' is NaN\n",
        "    chunk.dropna(subset=['Vehicles', 'DateTime'], inplace=True)\n",
        "\n",
        "    # Normalize vehicle counts within the chunk\n",
        "    scaler = StandardScaler()\n",
        "    chunk['Vehicles'] = scaler.fit_transform(chunk[['Vehicles']])\n",
        "\n",
        "    # Create a feature matrix (vehicle counts at junctions)\n",
        "    junction_features = torch.tensor(chunk.groupby('Junction').mean()['Vehicles'].values, dtype=torch.float).unsqueeze(1)\n",
        "\n",
        "    # Ensure unique junction names and create a mapping\n",
        "    unique_junctions = chunk['Junction'].unique()\n",
        "    junction_to_index = {junction: i for i, junction in enumerate(unique_junctions)}\n",
        "\n",
        "    # Ensure connections exist and are mapped\n",
        "    chunk['Junction_idx'] = chunk['Junction'].map(junction_to_index)\n",
        "    chunk['ConnectedJunction_idx'] = chunk['Junction'].shift(-1, fill_value=chunk['Junction'].iloc[0]).map(junction_to_index)\n",
        "\n",
        "    # Drop rows where 'ConnectedJunction_idx' is NaN\n",
        "    chunk.dropna(subset=['ConnectedJunction_idx'], inplace=True)\n",
        "\n",
        "    # Define edges based on connectivity logic\n",
        "    edge_index = torch.tensor(chunk[['Junction_idx', 'ConnectedJunction_idx']].values.T, dtype=torch.long)\n",
        "\n",
        "    return Data(x=junction_features, edge_index=edge_index, y=torch.tensor(chunk.groupby('Junction').mean()['Vehicles'].values, dtype=torch.float))\n"
      ],
      "metadata": {
        "id": "f9QcmGVj_cgM"
      },
      "execution_count": null,
      "outputs": []
    },
    {
      "cell_type": "code",
      "source": [
        "# Process each chunk and create graph structures\n",
        "graphs = [create_graph_structure(pd.read_csv(chunk_file)) for chunk_file in chunk_files]\n",
        "\n",
        "# Combine graphs into a single Batch (if needed)\n",
        "combined_graph = Batch.from_data_list(graphs)\n",
        "print(f\"Number of nodes: {combined_graph.x.shape[0]}\")\n",
        "print(f\"Edge index shape: {combined_graph.edge_index.shape}\")\n",
        "print(f\"Target shape: {combined_graph.y.shape}\")\n"
      ],
      "metadata": {
        "colab": {
          "base_uri": "https://localhost:8080/"
        },
        "id": "1HO2Gmr-_fLA",
        "outputId": "6637edf5-7b0c-4bcb-91f6-4e0a179b3f5e"
      },
      "execution_count": null,
      "outputs": [
        {
          "output_type": "stream",
          "name": "stdout",
          "text": [
            "Number of nodes: 40\n",
            "Edge index shape: torch.Size([2, 481200])\n",
            "Target shape: torch.Size([40])\n"
          ]
        }
      ]
    },
    {
      "cell_type": "code",
      "source": [
        "# Assuming connections_df is being created to establish connections\n",
        "connections_df = pd.DataFrame({\n",
        "    'Junction': chunk['Junction'],\n",
        "    'ConnectedJunction': chunk['Junction'].shift(-1, fill_value=chunk['Junction'].iloc[0])\n",
        "})\n",
        "\n",
        "# Make sure you're not just shifting a single junction\n",
        "connections = []\n",
        "for junction in chunk['Junction'].unique():\n",
        "    connected_junctions = chunk[chunk['Junction'] == junction]['Junction'].values\n",
        "    for connected in connected_junctions:\n",
        "        if connected != junction:  # Avoid self-loops\n",
        "            connections.append((junction, connected))\n",
        "\n",
        "# Create the edge index\n",
        "edge_index = torch.tensor(connections, dtype=torch.long).t().contiguous()\n"
      ],
      "metadata": {
        "id": "RjpFaeKF_oLh"
      },
      "execution_count": null,
      "outputs": []
    },
    {
      "cell_type": "code",
      "source": [
        "print(chunk.head())\n",
        "print(chunk['Junction'].unique())"
      ],
      "metadata": {
        "colab": {
          "base_uri": "https://localhost:8080/"
        },
        "id": "ZIjzoa6-ADJv",
        "outputId": "fa18136b-f76d-411e-d97f-e4a053ac0985"
      },
      "execution_count": null,
      "outputs": [
        {
          "output_type": "stream",
          "name": "stdout",
          "text": [
            "                 DateTime  Junction  Vehicles           ID\n",
            "48000 2017-06-26 00:00:00         4 -0.780442  20170626004\n",
            "48001 2017-06-26 01:00:00         4 -0.780442  20170626014\n",
            "48002 2017-06-26 02:00:00         4 -0.957146  20170626024\n",
            "48003 2017-06-26 03:00:00         4 -1.310554  20170626034\n",
            "48004 2017-06-26 04:00:00         4 -1.663961  20170626044\n",
            "[4]\n"
          ]
        }
      ]
    },
    {
      "cell_type": "code",
      "source": [
        "import pandas as pd\n",
        "import torch\n",
        "from torch_geometric.data import Data\n",
        "from sklearn.preprocessing import StandardScaler\n",
        "\n",
        "def create_graph_structure(chunk):\n",
        "    # Ensure DateTime is in datetime format\n",
        "    chunk['DateTime'] = pd.to_datetime(chunk['DateTime'], errors='coerce')\n",
        "\n",
        "    # Ensure 'Vehicles' column is numeric\n",
        "    chunk['Vehicles'] = pd.to_numeric(chunk['Vehicles'], errors='coerce')\n",
        "\n",
        "    # Drop rows where 'Vehicles' or 'DateTime' is NaN\n",
        "    chunk.dropna(subset=['Vehicles', 'DateTime'], inplace=True)\n",
        "\n",
        "    # Normalize vehicle counts within the chunk\n",
        "    scaler = StandardScaler()\n",
        "    chunk['Vehicles'] = scaler.fit_transform(chunk[['Vehicles']])\n",
        "\n",
        "    # Create a feature matrix (vehicle counts at junctions)\n",
        "    junction_features = torch.tensor(chunk.groupby('Junction').mean()['Vehicles'].values, dtype=torch.float).unsqueeze(1)\n",
        "\n",
        "    # Create a mapping of junctions to indices\n",
        "    unique_junctions = chunk['Junction'].unique()\n",
        "    junction_to_index = {junction: i for i, junction in enumerate(unique_junctions)}\n",
        "\n",
        "    # Initialize connections list\n",
        "    connections = []\n",
        "\n",
        "    # Robust connection logic: Connect each junction to all other junctions (fully connected graph)\n",
        "    for i in range(len(unique_junctions)):\n",
        "        for j in range(i + 1, len(unique_junctions)):\n",
        "            connections.append((junction_to_index[unique_junctions[i]], junction_to_index[unique_junctions[j]]))\n",
        "            connections.append((junction_to_index[unique_junctions[j]], junction_to_index[unique_junctions[i]]))\n",
        "\n",
        "    # Convert connections to a tensor\n",
        "    if connections:\n",
        "        edge_index = torch.tensor(connections, dtype=torch.long).t().contiguous()\n",
        "    else:\n",
        "        edge_index = torch.empty((2, 0), dtype=torch.long)  # Handle empty connections\n",
        "\n",
        "    # Prepare the target to match the number of nodes\n",
        "    targets = torch.tensor(chunk.groupby('Junction').mean()['Vehicles'].values, dtype=torch.float).unsqueeze(1)\n",
        "\n",
        "    return Data(x=junction_features, edge_index=edge_index, y=targets)\n"
      ],
      "metadata": {
        "id": "mdXK3ZURARJ-"
      },
      "execution_count": null,
      "outputs": []
    },
    {
      "cell_type": "markdown",
      "source": [
        "Step"
      ],
      "metadata": {
        "id": "D5uMtx2mpEX4"
      }
    },
    {
      "cell_type": "code",
      "source": [
        "class TrafficGNN(torch.nn.Module):\n",
        "    def __init__(self):\n",
        "        super(TrafficGNN, self).__init__()\n",
        "        self.conv1 = GCNConv(combined_graph.num_features, 16)\n",
        "        self.conv2 = GCNConv(16, 1)\n",
        "\n",
        "    def forward(self, data):\n",
        "        x, edge_index = data.x, data.edge_index\n",
        "        x = self.conv1(x, edge_index)\n",
        "        x = F.relu(x)\n",
        "        x = F.dropout(x, training=self.training)\n",
        "        x = self.conv2(x, edge_index)\n",
        "        return x.squeeze()\n",
        "\n",
        "model = TrafficGNN()\n",
        "optimizer = optim.Adam(model.parameters(), lr=0.01, weight_decay=5e-4)\n",
        "criterion = torch.nn.MSELoss()\n",
        "\n",
        "model.train()\n",
        "for epoch in range(200):\n",
        "    optimizer.zero_grad()\n",
        "    out = model(combined_graph)\n",
        "    loss = criterion(out, combined_graph.y.squeeze())\n",
        "    loss.backward()\n",
        "    optimizer.step()\n",
        "    if epoch % 10 == 0:\n",
        "        print(f'Epoch {epoch}, Loss: {loss.item()}')\n",
        "\n",
        "model.eval()\n",
        "with torch.no_grad():\n",
        "    out = model(combined_graph)\n",
        "    pred = out.squeeze().numpy()\n",
        "\n",
        "mse = mean_squared_error(combined_graph.y.squeeze().numpy(), pred)\n",
        "r2 = r2_score(combined_graph.y.squeeze().numpy(), pred)\n",
        "\n",
        "print(f'MSE: {mse}, R²: {r2}')\n"
      ],
      "metadata": {
        "colab": {
          "base_uri": "https://localhost:8080/"
        },
        "id": "jQlVFRCNBR_K",
        "outputId": "eb13374e-ff19-4c28-c458-cfea0ed4d537"
      },
      "execution_count": null,
      "outputs": [
        {
          "output_type": "stream",
          "name": "stdout",
          "text": [
            "Epoch 0, Loss: 0.5800274610519409\n",
            "Epoch 10, Loss: 0.4976087510585785\n",
            "Epoch 20, Loss: 0.4848286211490631\n",
            "Epoch 30, Loss: 0.452258437871933\n",
            "Epoch 40, Loss: 0.44026312232017517\n",
            "Epoch 50, Loss: 0.40586766600608826\n",
            "Epoch 60, Loss: 0.4066927433013916\n",
            "Epoch 70, Loss: 0.4245029389858246\n",
            "Epoch 80, Loss: 0.3988106846809387\n",
            "Epoch 90, Loss: 0.36112159490585327\n",
            "Epoch 100, Loss: 0.38500645756721497\n",
            "Epoch 110, Loss: 0.37013691663742065\n",
            "Epoch 120, Loss: 0.4182163178920746\n",
            "Epoch 130, Loss: 0.3882463872432709\n",
            "Epoch 140, Loss: 0.3763882517814636\n",
            "Epoch 150, Loss: 0.3880731463432312\n",
            "Epoch 160, Loss: 0.36092644929885864\n",
            "Epoch 170, Loss: 0.36687561869621277\n",
            "Epoch 180, Loss: 0.3359421193599701\n",
            "Epoch 190, Loss: 0.36577895283699036\n",
            "MSE: 0.312055766582489, R²: 0.37721365690231323\n"
          ]
        }
      ]
    },
    {
      "cell_type": "markdown",
      "source": [
        "#PREDICTION\n"
      ],
      "metadata": {
        "id": "rWSAsyDVB6zq"
      }
    },
    {
      "source": [
        "import pandas as pd\n",
        "import torch\n",
        "from torch_geometric.data import Data\n",
        "\n",
        "def predict_traffic(model, datetime, location, initial_vehicles, scaler):\n",
        "    # Create a dummy DataFrame for the prediction\n",
        "    input_data = pd.DataFrame({\n",
        "        'DateTime': [datetime],\n",
        "        'Junction': [location],\n",
        "        'Vehicles': [initial_vehicles]  # Initial vehicle count\n",
        "    })\n",
        "\n",
        "    # Convert DateTime to datetime object\n",
        "    input_data['DateTime'] = pd.to_datetime(input_data['DateTime'])\n",
        "\n",
        "    # Normalize vehicle counts using the same scaler from training\n",
        "    input_data['Vehicles'] = scaler.transform(input_data[['Vehicles']])\n",
        "\n",
        "    # Create a mapping of junctions to indices\n",
        "    unique_junctions = input_data['Junction'].unique()\n",
        "    junction_to_index = {junction: i for i, junction in enumerate(unique_junctions)}\n",
        "\n",
        "    # Create feature matrix\n",
        "    junction_features = torch.tensor(input_data.groupby('Junction').mean()['Vehicles'].values, dtype=torch.float).unsqueeze(1)\n",
        "\n",
        "    # Create edge_index (fully connected graph for simplicity)\n",
        "    connections = []\n",
        "    for i in range(len(unique_junctions)):\n",
        "        for j in range(i + 1, len(unique_junctions)):\n",
        "            connections.append((i, j))\n",
        "            connections.append((j, i))\n",
        "\n",
        "    if connections:\n",
        "        edge_index = torch.tensor(connections, dtype=torch.long).t().contiguous()\n",
        "    else:\n",
        "        edge_index = torch.empty((2, 0), dtype=torch.long)\n",
        "\n",
        "    # Create data object for the model\n",
        "    data = Data(x=junction_features, edge_index=edge_index)\n",
        "\n",
        "    # Make prediction\n",
        "    model.eval()\n",
        "    with torch.no_grad():\n",
        "        out = model(data)\n",
        "\n",
        "    # Return the predicted vehicle count (after denormalization)\n",
        "    predicted_vehicles = scaler.inverse_transform(out.numpy().reshape(-1, 1))\n",
        "    return predicted_vehicles[0][0]  # Access the first element of the first row\n",
        "\n",
        "def suggest_best_junction(model, datetime, junctions, scaler):\n",
        "    predictions = {}\n",
        "    for junction, initial_vehicles in junctions.items():\n",
        "        predicted_traffic = predict_traffic(model, datetime, junction, initial_vehicles, scaler)\n",
        "        predictions[junction] = predicted_traffic\n",
        "\n",
        "    # Find the junction with the least predicted traffic\n",
        "    best_junction = min(predictions, key=predictions.get)\n",
        "    return best_junction, predictions[best_junction]\n",
        "\n",
        "# Example usage\n",
        "datetime = '2015-11-01 02:00:00'\n",
        "junctions = {\n",
        "    'Junction 1': 6,\n",
        "    'Junction 2': 5,\n",
        "    'Junction 3': 12,\n",
        "    'Junction 4': 11\n",
        "}\n",
        "best_junction, predicted_traffic = suggest_best_junction(model, datetime, junctions, scaler)\n",
        "print(f'Best junction to travel at {datetime} is {best_junction} with predicted traffic of {predicted_traffic}')\n"
      ],
      "cell_type": "code",
      "metadata": {
        "colab": {
          "base_uri": "https://localhost:8080/"
        },
        "id": "4vJ0hyAuEdEj",
        "outputId": "42defc09-3316-42c1-c999-50dae81d2dc1"
      },
      "execution_count": null,
      "outputs": [
        {
          "output_type": "stream",
          "name": "stdout",
          "text": [
            "Best junction to travel at 2015-11-01 02:00:00 is Junction 3 with predicted traffic of 19.189407348632812\n"
          ]
        }
      ]
    },
    {
      "cell_type": "markdown",
      "source": [
        "#Vizualization"
      ],
      "metadata": {
        "id": "9cLWjMz7Ixcz"
      }
    },
    {
      "cell_type": "code",
      "source": [
        "import matplotlib.pyplot as plt\n",
        "\n",
        "# Initialize the list to store loss values\n",
        "losses = []\n",
        "\n",
        "# Define and train the model\n",
        "class TrafficGNN(torch.nn.Module):\n",
        "    def __init__(self):\n",
        "        super(TrafficGNN, self).__init__()\n",
        "        self.conv1 = GCNConv(combined_graph.num_features, 16)\n",
        "        self.conv2 = GCNConv(16, 1)\n",
        "\n",
        "    def forward(self, data):\n",
        "        x, edge_index = data.x, data.edge_index\n",
        "        x = self.conv1(x, edge_index)\n",
        "        x = F.relu(x)\n",
        "        x = F.dropout(x, training=self.training)\n",
        "        x = self.conv2(x, edge_index)\n",
        "        return x.squeeze()\n",
        "\n",
        "model = TrafficGNN()\n",
        "optimizer = optim.Adam(model.parameters(), lr=0.01, weight_decay=5e-4)\n",
        "criterion = torch.nn.MSELoss()\n",
        "\n",
        "model.train()\n",
        "for epoch in range(200):\n",
        "    optimizer.zero_grad()\n",
        "    out = model(combined_graph)\n",
        "    loss = criterion(out, combined_graph.y.squeeze())\n",
        "    losses.append(loss.item())  # Store the loss for this epoch\n",
        "    loss.backward()\n",
        "    optimizer.step()\n",
        "    if epoch % 10 == 0:\n",
        "        print(f'Epoch {epoch}, Loss: {loss.item()}')\n",
        "\n",
        "# Plot training loss over epochs\n",
        "plt.figure(figsize=(10, 6))\n",
        "plt.plot(range(1, 201), losses, label='Training Loss')  # Ensure length of 'losses' matches length of 'epochs'\n",
        "plt.xlabel('Epochs')\n",
        "plt.ylabel('Loss')\n",
        "plt.title('Training Loss Over Epochs')\n",
        "plt.legend()\n",
        "plt.grid(True)\n",
        "plt.show()\n"
      ],
      "metadata": {
        "colab": {
          "base_uri": "https://localhost:8080/",
          "height": 762
        },
        "id": "gm0c4Cm5I1xq",
        "outputId": "e119039a-f81b-470e-f98b-7b9befdf1ace"
      },
      "execution_count": null,
      "outputs": [
        {
          "output_type": "stream",
          "name": "stdout",
          "text": [
            "Epoch 0, Loss: 0.5429559946060181\n",
            "Epoch 10, Loss: 0.4987027645111084\n",
            "Epoch 20, Loss: 0.4887210428714752\n",
            "Epoch 30, Loss: 0.4808041453361511\n",
            "Epoch 40, Loss: 0.4886436462402344\n",
            "Epoch 50, Loss: 0.471261203289032\n",
            "Epoch 60, Loss: 0.4401959776878357\n",
            "Epoch 70, Loss: 0.42564278841018677\n",
            "Epoch 80, Loss: 0.42825859785079956\n",
            "Epoch 90, Loss: 0.39306655526161194\n",
            "Epoch 100, Loss: 0.40282148122787476\n",
            "Epoch 110, Loss: 0.3879450261592865\n",
            "Epoch 120, Loss: 0.36897799372673035\n",
            "Epoch 130, Loss: 0.39089149236679077\n",
            "Epoch 140, Loss: 0.3986366391181946\n",
            "Epoch 150, Loss: 0.3880474269390106\n",
            "Epoch 160, Loss: 0.40929847955703735\n",
            "Epoch 170, Loss: 0.353201687335968\n",
            "Epoch 180, Loss: 0.40521588921546936\n",
            "Epoch 190, Loss: 0.3807675242424011\n"
          ]
        },
        {
          "output_type": "display_data",
          "data": {
            "text/plain": [
              "<Figure size 1000x600 with 1 Axes>"
            ],
            "image/png": "[encoded data removed]"
          },
          "metadata": {}
        }
      ]
    },
    {
      "cell_type": "code",
      "source": [
        "import networkx as nx\n",
        "from torch_geometric.utils import to_networkx\n",
        "import matplotlib.pyplot as plt\n",
        "\n",
        "# Convert PyTorch Geometric data to NetworkX graph\n",
        "G = to_networkx(combined_graph, to_undirected=True)\n",
        "\n",
        "plt.figure(figsize=(10, 6))\n",
        "nx.draw(G, with_labels=True, node_color='skyblue', edge_color='gray', node_size=500, font_size=10)\n",
        "plt.title('Graph Visualization')\n",
        "plt.show()\n"
      ],
      "metadata": {
        "colab": {
          "base_uri": "https://localhost:8080/",
          "height": 413
        },
        "id": "BDpjAENaI2wU",
        "outputId": "e98eb6e3-71c1-40bf-e7e4-5eb83200ccb8"
      },
      "execution_count": null,
      "outputs": [
        {
          "output_type": "display_data",
          "data": {
            "text/plain": [
              "<Figure size 1000x600 with 1 Axes>"
            ],
            "image/png": "[encoded data removed]"
          },
          "metadata": {}
        }
      ]
    },
    {
      "cell_type": "code",
      "source": [],
      "metadata": {
        "id": "J8BvhrJmI7-5"
      },
      "execution_count": null,
      "outputs": []
    },
    {
      "cell_type": "markdown",
      "source": [
        "###Plot Actual vs. Predicted Traffic:"
      ],
      "metadata": {
        "id": "5W3y7YDnJQTV"
      }
    },
    {
      "cell_type": "code",
      "source": [
        "import numpy as np\n",
        "import matplotlib.pyplot as plt\n",
        "\n",
        "# Example actual and predicted traffic data\n",
        "# Replace these with your actual data\n",
        "actual_traffic = [34.5, 32.3, 19.2, 21.4]  # Replace with your actual traffic values\n",
        "predicted_traffic = [34.47, 32.29, 19.19, 21.37]  # Replace with your predicted traffic values\n",
        "\n",
        "# Sample points (replace with your actual indices)\n",
        "junctions = ['Junction 2', 'Junction 1', 'Junction 3', 'Junction 4']\n",
        "\n",
        "plt.figure(figsize=(10, 6))\n",
        "plt.plot(junctions, actual_traffic, label='Actual Traffic', color='blue', marker='o')\n",
        "plt.plot(junctions, predicted_traffic, label='Predicted Traffic', color='red', linestyle='--', marker='x')\n",
        "plt.xlabel('Junctions')\n",
        "plt.ylabel('Traffic Count')\n",
        "plt.title('Actual vs Predicted Traffic')\n",
        "plt.legend()\n",
        "plt.grid(True)\n",
        "plt.show()\n"
      ],
      "metadata": {
        "colab": {
          "base_uri": "https://localhost:8080/",
          "height": 426
        },
        "id": "mPOzLb6QJW4p",
        "outputId": "b1971c6c-e64b-4da8-9d89-3e3b18e11bc5"
      },
      "execution_count": null,
      "outputs": [
        {
          "output_type": "display_data",
          "data": {
            "text/plain": [
              "<Figure size 1000x600 with 1 Axes>"
            ],
            "image/png": "[encoded data removed]"
          },
          "metadata": {}
        }
      ]
    },
    {
      "cell_type": "code",
      "source": [],
      "metadata": {
        "id": "m_6ReQqBJ9IA"
      },
      "execution_count": null,
      "outputs": []
    }
  ]
}